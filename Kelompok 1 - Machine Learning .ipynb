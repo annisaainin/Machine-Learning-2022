{
  "nbformat": 4,
  "nbformat_minor": 0,
  "metadata": {
    "colab": {
      "name": "Kelompok 1 - Machine Learning",
      "provenance": []
    },
    "kernelspec": {
      "name": "python3",
      "display_name": "Python 3"
    },
    "language_info": {
      "name": "python"
    }
  },
  "cells": [
    {
      "cell_type": "markdown",
      "source": [
        "#**Tugas Besar Machine Learning**\n",
        "## CLUSTERING TINGKAT GENANGAN AIR DI RAYON SURABAYA MENGGUNAKAN ALGORITMA K-MEANS\n",
        "#####Kelompok 1\n",
        "#####Evyra Rizki Safitri (IT-02-02 - 1202190015)\n",
        "#####Fitria Rahma Wulandari (IT-02-02 - 1202190045)\n",
        "#####Annisa Ainin Fadilah (IT-02-02 - 1202190059)\n",
        "#####Dafa Septiandri Dwinanda Prabowo (IT-02-02 - 1202192033)"
      ],
      "metadata": {
        "id": "pBVDfQYBeQ-g"
      }
    },
    {
      "cell_type": "markdown",
      "source": [
        "**Identifikasi masalah dan Pernyataan masalah yang ingin diselesaikan**"
      ],
      "metadata": {
        "id": "yEDd14pvYjwK"
      }
    },
    {
      "cell_type": "markdown",
      "source": [
        "Permasalahan persebaran genangan air Kota Surabaya"
      ],
      "metadata": {
        "id": "OXLCx5RoYkra"
      }
    },
    {
      "cell_type": "markdown",
      "source": [
        "**Pre-Processing Data**"
      ],
      "metadata": {
        "id": "VmimSDVRYz8Z"
      }
    },
    {
      "cell_type": "code",
      "source": [
        "import pandas as pd\n",
        "import numpy as np\n",
        "import seaborn as sns\n",
        "import matplotlib.pyplot as plt\n",
        "from sklearn.cluster import KMeans\n",
        "from sklearn.preprocessing import LabelEncoder, StandardScaler"
      ],
      "metadata": {
        "id": "7fHAxlH3YneL"
      },
      "execution_count": 1,
      "outputs": []
    },
    {
      "cell_type": "code",
      "source": [
        "from google.colab import drive\n",
        "drive.mount(\"/content/drive\")"
      ],
      "metadata": {
        "colab": {
          "base_uri": "https://localhost:8080/"
        },
        "id": "22_70rjPYwoq",
        "outputId": "d39a97b7-bb33-43e2-b7ea-835da99a962b"
      },
      "execution_count": 2,
      "outputs": [
        {
          "output_type": "stream",
          "name": "stdout",
          "text": [
            "Mounted at /content/drive\n"
          ]
        }
      ]
    },
    {
      "cell_type": "code",
      "source": [
        "dataset=pd.read_csv(\"/content/drive/My Drive/Machine Learning/data genangan air Surabaya.csv\")\n",
        "dataset2=pd.read_csv(\"/content/drive/My Drive/Machine Learning/data-genangan-baru2.csv\")\n",
        "dataset"
      ],
      "metadata": {
        "colab": {
          "base_uri": "https://localhost:8080/",
          "height": 589
        },
        "id": "FX2-7VLgY7Xh",
        "outputId": "3d279537-dede-473d-fe80-1895628b5b88"
      },
      "execution_count": 3,
      "outputs": [
        {
          "output_type": "execute_result",
          "data": {
            "text/plain": [
              "     _id                               Lokasi      Kecamatan      Kelurahan  \\\n",
              "0      1           Jl. Pakis Agosari (Yamaha)    Dukuh Pakis    Dukuh Pakis   \n",
              "1      2  Jl. Mayjend Sungkono - Darmo Park I    Dukuh Pakis    Dukuh Pakis   \n",
              "2      3    Jl. Mayjend Sungkono (Pom Bensin)    Dukuh Pakis    Dukuh Pakis   \n",
              "3      4                          Kp. Kebraon   Karangpilang     Warugunung   \n",
              "4      5              Jl. Lakar Santri RW.001    Lakarsantri     Bangkingan   \n",
              "..   ...                                  ...            ...            ...   \n",
              "239  240                            Jl. Kanwa      WONOKROMO          DARMO   \n",
              "240  241                 Per. Rungkut Harapan        Rungkut  Rungkut Kidul   \n",
              "241  242                        TANJUNGSARI I  SUKOMANUNGGAL    TANJUNGSARI   \n",
              "242  243                       Jl. Karangrejo      Wonokromo      Wonokromo   \n",
              "243  244                       Kp. Tambakdono         Benowo     Tambakdono   \n",
              "\n",
              "               Rayon  Luas genangan  Tinggi genangan  Lama genangan  \\\n",
              "0       Rayon Wiyung      10.800000               10             40   \n",
              "1       Rayon Wiyung       0.816236               25             58   \n",
              "2       Rayon Wiyung       0.509047               15             16   \n",
              "3       Rayon Wiyung       0.785111               10             40   \n",
              "4       Rayon Wiyung       0.749717               30             16   \n",
              "..               ...            ...              ...            ...   \n",
              "239    Rayon Genteng       0.334177                9              3   \n",
              "240  Rayon Jambangan       0.851371                9              3   \n",
              "241     Rayon Tandes      19.980000                9             15   \n",
              "242  Rayon Jambangan      15.830000                9             20   \n",
              "243     Rayon Tandes      16.410000                4             15   \n",
              "\n",
              "     Skor Luas Genangan  Skor Tinggi Genangan  Skor Lama Genangan  \n",
              "0                   100                    25                  25  \n",
              "1                    75                    50                  25  \n",
              "2                    75                    50                   0  \n",
              "3                    75                    25                  25  \n",
              "4                    75                    50                   0  \n",
              "..                  ...                   ...                 ...  \n",
              "239                  50                    25                   0  \n",
              "240                  75                    25                   0  \n",
              "241                 100                    25                   0  \n",
              "242                 100                    25                   0  \n",
              "243                 100                     0                   0  \n",
              "\n",
              "[244 rows x 11 columns]"
            ],
            "text/html": [
              "\n",
              "  <div id=\"df-1eb9f2ad-51a9-4b05-af11-c574e390365e\">\n",
              "    <div class=\"colab-df-container\">\n",
              "      <div>\n",
              "<style scoped>\n",
              "    .dataframe tbody tr th:only-of-type {\n",
              "        vertical-align: middle;\n",
              "    }\n",
              "\n",
              "    .dataframe tbody tr th {\n",
              "        vertical-align: top;\n",
              "    }\n",
              "\n",
              "    .dataframe thead th {\n",
              "        text-align: right;\n",
              "    }\n",
              "</style>\n",
              "<table border=\"1\" class=\"dataframe\">\n",
              "  <thead>\n",
              "    <tr style=\"text-align: right;\">\n",
              "      <th></th>\n",
              "      <th>_id</th>\n",
              "      <th>Lokasi</th>\n",
              "      <th>Kecamatan</th>\n",
              "      <th>Kelurahan</th>\n",
              "      <th>Rayon</th>\n",
              "      <th>Luas genangan</th>\n",
              "      <th>Tinggi genangan</th>\n",
              "      <th>Lama genangan</th>\n",
              "      <th>Skor Luas Genangan</th>\n",
              "      <th>Skor Tinggi Genangan</th>\n",
              "      <th>Skor Lama Genangan</th>\n",
              "    </tr>\n",
              "  </thead>\n",
              "  <tbody>\n",
              "    <tr>\n",
              "      <th>0</th>\n",
              "      <td>1</td>\n",
              "      <td>Jl. Pakis Agosari (Yamaha)</td>\n",
              "      <td>Dukuh Pakis</td>\n",
              "      <td>Dukuh Pakis</td>\n",
              "      <td>Rayon Wiyung</td>\n",
              "      <td>10.800000</td>\n",
              "      <td>10</td>\n",
              "      <td>40</td>\n",
              "      <td>100</td>\n",
              "      <td>25</td>\n",
              "      <td>25</td>\n",
              "    </tr>\n",
              "    <tr>\n",
              "      <th>1</th>\n",
              "      <td>2</td>\n",
              "      <td>Jl. Mayjend Sungkono - Darmo Park I</td>\n",
              "      <td>Dukuh Pakis</td>\n",
              "      <td>Dukuh Pakis</td>\n",
              "      <td>Rayon Wiyung</td>\n",
              "      <td>0.816236</td>\n",
              "      <td>25</td>\n",
              "      <td>58</td>\n",
              "      <td>75</td>\n",
              "      <td>50</td>\n",
              "      <td>25</td>\n",
              "    </tr>\n",
              "    <tr>\n",
              "      <th>2</th>\n",
              "      <td>3</td>\n",
              "      <td>Jl. Mayjend Sungkono (Pom Bensin)</td>\n",
              "      <td>Dukuh Pakis</td>\n",
              "      <td>Dukuh Pakis</td>\n",
              "      <td>Rayon Wiyung</td>\n",
              "      <td>0.509047</td>\n",
              "      <td>15</td>\n",
              "      <td>16</td>\n",
              "      <td>75</td>\n",
              "      <td>50</td>\n",
              "      <td>0</td>\n",
              "    </tr>\n",
              "    <tr>\n",
              "      <th>3</th>\n",
              "      <td>4</td>\n",
              "      <td>Kp. Kebraon</td>\n",
              "      <td>Karangpilang</td>\n",
              "      <td>Warugunung</td>\n",
              "      <td>Rayon Wiyung</td>\n",
              "      <td>0.785111</td>\n",
              "      <td>10</td>\n",
              "      <td>40</td>\n",
              "      <td>75</td>\n",
              "      <td>25</td>\n",
              "      <td>25</td>\n",
              "    </tr>\n",
              "    <tr>\n",
              "      <th>4</th>\n",
              "      <td>5</td>\n",
              "      <td>Jl. Lakar Santri RW.001</td>\n",
              "      <td>Lakarsantri</td>\n",
              "      <td>Bangkingan</td>\n",
              "      <td>Rayon Wiyung</td>\n",
              "      <td>0.749717</td>\n",
              "      <td>30</td>\n",
              "      <td>16</td>\n",
              "      <td>75</td>\n",
              "      <td>50</td>\n",
              "      <td>0</td>\n",
              "    </tr>\n",
              "    <tr>\n",
              "      <th>...</th>\n",
              "      <td>...</td>\n",
              "      <td>...</td>\n",
              "      <td>...</td>\n",
              "      <td>...</td>\n",
              "      <td>...</td>\n",
              "      <td>...</td>\n",
              "      <td>...</td>\n",
              "      <td>...</td>\n",
              "      <td>...</td>\n",
              "      <td>...</td>\n",
              "      <td>...</td>\n",
              "    </tr>\n",
              "    <tr>\n",
              "      <th>239</th>\n",
              "      <td>240</td>\n",
              "      <td>Jl. Kanwa</td>\n",
              "      <td>WONOKROMO</td>\n",
              "      <td>DARMO</td>\n",
              "      <td>Rayon Genteng</td>\n",
              "      <td>0.334177</td>\n",
              "      <td>9</td>\n",
              "      <td>3</td>\n",
              "      <td>50</td>\n",
              "      <td>25</td>\n",
              "      <td>0</td>\n",
              "    </tr>\n",
              "    <tr>\n",
              "      <th>240</th>\n",
              "      <td>241</td>\n",
              "      <td>Per. Rungkut Harapan</td>\n",
              "      <td>Rungkut</td>\n",
              "      <td>Rungkut Kidul</td>\n",
              "      <td>Rayon Jambangan</td>\n",
              "      <td>0.851371</td>\n",
              "      <td>9</td>\n",
              "      <td>3</td>\n",
              "      <td>75</td>\n",
              "      <td>25</td>\n",
              "      <td>0</td>\n",
              "    </tr>\n",
              "    <tr>\n",
              "      <th>241</th>\n",
              "      <td>242</td>\n",
              "      <td>TANJUNGSARI I</td>\n",
              "      <td>SUKOMANUNGGAL</td>\n",
              "      <td>TANJUNGSARI</td>\n",
              "      <td>Rayon Tandes</td>\n",
              "      <td>19.980000</td>\n",
              "      <td>9</td>\n",
              "      <td>15</td>\n",
              "      <td>100</td>\n",
              "      <td>25</td>\n",
              "      <td>0</td>\n",
              "    </tr>\n",
              "    <tr>\n",
              "      <th>242</th>\n",
              "      <td>243</td>\n",
              "      <td>Jl. Karangrejo</td>\n",
              "      <td>Wonokromo</td>\n",
              "      <td>Wonokromo</td>\n",
              "      <td>Rayon Jambangan</td>\n",
              "      <td>15.830000</td>\n",
              "      <td>9</td>\n",
              "      <td>20</td>\n",
              "      <td>100</td>\n",
              "      <td>25</td>\n",
              "      <td>0</td>\n",
              "    </tr>\n",
              "    <tr>\n",
              "      <th>243</th>\n",
              "      <td>244</td>\n",
              "      <td>Kp. Tambakdono</td>\n",
              "      <td>Benowo</td>\n",
              "      <td>Tambakdono</td>\n",
              "      <td>Rayon Tandes</td>\n",
              "      <td>16.410000</td>\n",
              "      <td>4</td>\n",
              "      <td>15</td>\n",
              "      <td>100</td>\n",
              "      <td>0</td>\n",
              "      <td>0</td>\n",
              "    </tr>\n",
              "  </tbody>\n",
              "</table>\n",
              "<p>244 rows × 11 columns</p>\n",
              "</div>\n",
              "      <button class=\"colab-df-convert\" onclick=\"convertToInteractive('df-1eb9f2ad-51a9-4b05-af11-c574e390365e')\"\n",
              "              title=\"Convert this dataframe to an interactive table.\"\n",
              "              style=\"display:none;\">\n",
              "        \n",
              "  <svg xmlns=\"http://www.w3.org/2000/svg\" height=\"24px\"viewBox=\"0 0 24 24\"\n",
              "       width=\"24px\">\n",
              "    <path d=\"M0 0h24v24H0V0z\" fill=\"none\"/>\n",
              "    <path d=\"M18.56 5.44l.94 2.06.94-2.06 2.06-.94-2.06-.94-.94-2.06-.94 2.06-2.06.94zm-11 1L8.5 8.5l.94-2.06 2.06-.94-2.06-.94L8.5 2.5l-.94 2.06-2.06.94zm10 10l.94 2.06.94-2.06 2.06-.94-2.06-.94-.94-2.06-.94 2.06-2.06.94z\"/><path d=\"M17.41 7.96l-1.37-1.37c-.4-.4-.92-.59-1.43-.59-.52 0-1.04.2-1.43.59L10.3 9.45l-7.72 7.72c-.78.78-.78 2.05 0 2.83L4 21.41c.39.39.9.59 1.41.59.51 0 1.02-.2 1.41-.59l7.78-7.78 2.81-2.81c.8-.78.8-2.07 0-2.86zM5.41 20L4 18.59l7.72-7.72 1.47 1.35L5.41 20z\"/>\n",
              "  </svg>\n",
              "      </button>\n",
              "      \n",
              "  <style>\n",
              "    .colab-df-container {\n",
              "      display:flex;\n",
              "      flex-wrap:wrap;\n",
              "      gap: 12px;\n",
              "    }\n",
              "\n",
              "    .colab-df-convert {\n",
              "      background-color: #E8F0FE;\n",
              "      border: none;\n",
              "      border-radius: 50%;\n",
              "      cursor: pointer;\n",
              "      display: none;\n",
              "      fill: #1967D2;\n",
              "      height: 32px;\n",
              "      padding: 0 0 0 0;\n",
              "      width: 32px;\n",
              "    }\n",
              "\n",
              "    .colab-df-convert:hover {\n",
              "      background-color: #E2EBFA;\n",
              "      box-shadow: 0px 1px 2px rgba(60, 64, 67, 0.3), 0px 1px 3px 1px rgba(60, 64, 67, 0.15);\n",
              "      fill: #174EA6;\n",
              "    }\n",
              "\n",
              "    [theme=dark] .colab-df-convert {\n",
              "      background-color: #3B4455;\n",
              "      fill: #D2E3FC;\n",
              "    }\n",
              "\n",
              "    [theme=dark] .colab-df-convert:hover {\n",
              "      background-color: #434B5C;\n",
              "      box-shadow: 0px 1px 3px 1px rgba(0, 0, 0, 0.15);\n",
              "      filter: drop-shadow(0px 1px 2px rgba(0, 0, 0, 0.3));\n",
              "      fill: #FFFFFF;\n",
              "    }\n",
              "  </style>\n",
              "\n",
              "      <script>\n",
              "        const buttonEl =\n",
              "          document.querySelector('#df-1eb9f2ad-51a9-4b05-af11-c574e390365e button.colab-df-convert');\n",
              "        buttonEl.style.display =\n",
              "          google.colab.kernel.accessAllowed ? 'block' : 'none';\n",
              "\n",
              "        async function convertToInteractive(key) {\n",
              "          const element = document.querySelector('#df-1eb9f2ad-51a9-4b05-af11-c574e390365e');\n",
              "          const dataTable =\n",
              "            await google.colab.kernel.invokeFunction('convertToInteractive',\n",
              "                                                     [key], {});\n",
              "          if (!dataTable) return;\n",
              "\n",
              "          const docLinkHtml = 'Like what you see? Visit the ' +\n",
              "            '<a target=\"_blank\" href=https://colab.research.google.com/notebooks/data_table.ipynb>data table notebook</a>'\n",
              "            + ' to learn more about interactive tables.';\n",
              "          element.innerHTML = '';\n",
              "          dataTable['output_type'] = 'display_data';\n",
              "          await google.colab.output.renderOutput(dataTable, element);\n",
              "          const docLink = document.createElement('div');\n",
              "          docLink.innerHTML = docLinkHtml;\n",
              "          element.appendChild(docLink);\n",
              "        }\n",
              "      </script>\n",
              "    </div>\n",
              "  </div>\n",
              "  "
            ]
          },
          "metadata": {},
          "execution_count": 3
        }
      ]
    },
    {
      "cell_type": "code",
      "source": [
        "dataset[['Rayon', 'Skor Luas Genangan', 'Skor Tinggi Genangan', 'Skor Lama Genangan']]"
      ],
      "metadata": {
        "colab": {
          "base_uri": "https://localhost:8080/",
          "height": 424
        },
        "id": "qePEbFahZACY",
        "outputId": "44c97221-fbdc-4cbd-c158-054e28a71129"
      },
      "execution_count": 4,
      "outputs": [
        {
          "output_type": "execute_result",
          "data": {
            "text/plain": [
              "               Rayon  Skor Luas Genangan  Skor Tinggi Genangan  \\\n",
              "0       Rayon Wiyung                 100                    25   \n",
              "1       Rayon Wiyung                  75                    50   \n",
              "2       Rayon Wiyung                  75                    50   \n",
              "3       Rayon Wiyung                  75                    25   \n",
              "4       Rayon Wiyung                  75                    50   \n",
              "..               ...                 ...                   ...   \n",
              "239    Rayon Genteng                  50                    25   \n",
              "240  Rayon Jambangan                  75                    25   \n",
              "241     Rayon Tandes                 100                    25   \n",
              "242  Rayon Jambangan                 100                    25   \n",
              "243     Rayon Tandes                 100                     0   \n",
              "\n",
              "     Skor Lama Genangan  \n",
              "0                    25  \n",
              "1                    25  \n",
              "2                     0  \n",
              "3                    25  \n",
              "4                     0  \n",
              "..                  ...  \n",
              "239                   0  \n",
              "240                   0  \n",
              "241                   0  \n",
              "242                   0  \n",
              "243                   0  \n",
              "\n",
              "[244 rows x 4 columns]"
            ],
            "text/html": [
              "\n",
              "  <div id=\"df-89216146-f5bd-4b38-b258-48d13be10d55\">\n",
              "    <div class=\"colab-df-container\">\n",
              "      <div>\n",
              "<style scoped>\n",
              "    .dataframe tbody tr th:only-of-type {\n",
              "        vertical-align: middle;\n",
              "    }\n",
              "\n",
              "    .dataframe tbody tr th {\n",
              "        vertical-align: top;\n",
              "    }\n",
              "\n",
              "    .dataframe thead th {\n",
              "        text-align: right;\n",
              "    }\n",
              "</style>\n",
              "<table border=\"1\" class=\"dataframe\">\n",
              "  <thead>\n",
              "    <tr style=\"text-align: right;\">\n",
              "      <th></th>\n",
              "      <th>Rayon</th>\n",
              "      <th>Skor Luas Genangan</th>\n",
              "      <th>Skor Tinggi Genangan</th>\n",
              "      <th>Skor Lama Genangan</th>\n",
              "    </tr>\n",
              "  </thead>\n",
              "  <tbody>\n",
              "    <tr>\n",
              "      <th>0</th>\n",
              "      <td>Rayon Wiyung</td>\n",
              "      <td>100</td>\n",
              "      <td>25</td>\n",
              "      <td>25</td>\n",
              "    </tr>\n",
              "    <tr>\n",
              "      <th>1</th>\n",
              "      <td>Rayon Wiyung</td>\n",
              "      <td>75</td>\n",
              "      <td>50</td>\n",
              "      <td>25</td>\n",
              "    </tr>\n",
              "    <tr>\n",
              "      <th>2</th>\n",
              "      <td>Rayon Wiyung</td>\n",
              "      <td>75</td>\n",
              "      <td>50</td>\n",
              "      <td>0</td>\n",
              "    </tr>\n",
              "    <tr>\n",
              "      <th>3</th>\n",
              "      <td>Rayon Wiyung</td>\n",
              "      <td>75</td>\n",
              "      <td>25</td>\n",
              "      <td>25</td>\n",
              "    </tr>\n",
              "    <tr>\n",
              "      <th>4</th>\n",
              "      <td>Rayon Wiyung</td>\n",
              "      <td>75</td>\n",
              "      <td>50</td>\n",
              "      <td>0</td>\n",
              "    </tr>\n",
              "    <tr>\n",
              "      <th>...</th>\n",
              "      <td>...</td>\n",
              "      <td>...</td>\n",
              "      <td>...</td>\n",
              "      <td>...</td>\n",
              "    </tr>\n",
              "    <tr>\n",
              "      <th>239</th>\n",
              "      <td>Rayon Genteng</td>\n",
              "      <td>50</td>\n",
              "      <td>25</td>\n",
              "      <td>0</td>\n",
              "    </tr>\n",
              "    <tr>\n",
              "      <th>240</th>\n",
              "      <td>Rayon Jambangan</td>\n",
              "      <td>75</td>\n",
              "      <td>25</td>\n",
              "      <td>0</td>\n",
              "    </tr>\n",
              "    <tr>\n",
              "      <th>241</th>\n",
              "      <td>Rayon Tandes</td>\n",
              "      <td>100</td>\n",
              "      <td>25</td>\n",
              "      <td>0</td>\n",
              "    </tr>\n",
              "    <tr>\n",
              "      <th>242</th>\n",
              "      <td>Rayon Jambangan</td>\n",
              "      <td>100</td>\n",
              "      <td>25</td>\n",
              "      <td>0</td>\n",
              "    </tr>\n",
              "    <tr>\n",
              "      <th>243</th>\n",
              "      <td>Rayon Tandes</td>\n",
              "      <td>100</td>\n",
              "      <td>0</td>\n",
              "      <td>0</td>\n",
              "    </tr>\n",
              "  </tbody>\n",
              "</table>\n",
              "<p>244 rows × 4 columns</p>\n",
              "</div>\n",
              "      <button class=\"colab-df-convert\" onclick=\"convertToInteractive('df-89216146-f5bd-4b38-b258-48d13be10d55')\"\n",
              "              title=\"Convert this dataframe to an interactive table.\"\n",
              "              style=\"display:none;\">\n",
              "        \n",
              "  <svg xmlns=\"http://www.w3.org/2000/svg\" height=\"24px\"viewBox=\"0 0 24 24\"\n",
              "       width=\"24px\">\n",
              "    <path d=\"M0 0h24v24H0V0z\" fill=\"none\"/>\n",
              "    <path d=\"M18.56 5.44l.94 2.06.94-2.06 2.06-.94-2.06-.94-.94-2.06-.94 2.06-2.06.94zm-11 1L8.5 8.5l.94-2.06 2.06-.94-2.06-.94L8.5 2.5l-.94 2.06-2.06.94zm10 10l.94 2.06.94-2.06 2.06-.94-2.06-.94-.94-2.06-.94 2.06-2.06.94z\"/><path d=\"M17.41 7.96l-1.37-1.37c-.4-.4-.92-.59-1.43-.59-.52 0-1.04.2-1.43.59L10.3 9.45l-7.72 7.72c-.78.78-.78 2.05 0 2.83L4 21.41c.39.39.9.59 1.41.59.51 0 1.02-.2 1.41-.59l7.78-7.78 2.81-2.81c.8-.78.8-2.07 0-2.86zM5.41 20L4 18.59l7.72-7.72 1.47 1.35L5.41 20z\"/>\n",
              "  </svg>\n",
              "      </button>\n",
              "      \n",
              "  <style>\n",
              "    .colab-df-container {\n",
              "      display:flex;\n",
              "      flex-wrap:wrap;\n",
              "      gap: 12px;\n",
              "    }\n",
              "\n",
              "    .colab-df-convert {\n",
              "      background-color: #E8F0FE;\n",
              "      border: none;\n",
              "      border-radius: 50%;\n",
              "      cursor: pointer;\n",
              "      display: none;\n",
              "      fill: #1967D2;\n",
              "      height: 32px;\n",
              "      padding: 0 0 0 0;\n",
              "      width: 32px;\n",
              "    }\n",
              "\n",
              "    .colab-df-convert:hover {\n",
              "      background-color: #E2EBFA;\n",
              "      box-shadow: 0px 1px 2px rgba(60, 64, 67, 0.3), 0px 1px 3px 1px rgba(60, 64, 67, 0.15);\n",
              "      fill: #174EA6;\n",
              "    }\n",
              "\n",
              "    [theme=dark] .colab-df-convert {\n",
              "      background-color: #3B4455;\n",
              "      fill: #D2E3FC;\n",
              "    }\n",
              "\n",
              "    [theme=dark] .colab-df-convert:hover {\n",
              "      background-color: #434B5C;\n",
              "      box-shadow: 0px 1px 3px 1px rgba(0, 0, 0, 0.15);\n",
              "      filter: drop-shadow(0px 1px 2px rgba(0, 0, 0, 0.3));\n",
              "      fill: #FFFFFF;\n",
              "    }\n",
              "  </style>\n",
              "\n",
              "      <script>\n",
              "        const buttonEl =\n",
              "          document.querySelector('#df-89216146-f5bd-4b38-b258-48d13be10d55 button.colab-df-convert');\n",
              "        buttonEl.style.display =\n",
              "          google.colab.kernel.accessAllowed ? 'block' : 'none';\n",
              "\n",
              "        async function convertToInteractive(key) {\n",
              "          const element = document.querySelector('#df-89216146-f5bd-4b38-b258-48d13be10d55');\n",
              "          const dataTable =\n",
              "            await google.colab.kernel.invokeFunction('convertToInteractive',\n",
              "                                                     [key], {});\n",
              "          if (!dataTable) return;\n",
              "\n",
              "          const docLinkHtml = 'Like what you see? Visit the ' +\n",
              "            '<a target=\"_blank\" href=https://colab.research.google.com/notebooks/data_table.ipynb>data table notebook</a>'\n",
              "            + ' to learn more about interactive tables.';\n",
              "          element.innerHTML = '';\n",
              "          dataTable['output_type'] = 'display_data';\n",
              "          await google.colab.output.renderOutput(dataTable, element);\n",
              "          const docLink = document.createElement('div');\n",
              "          docLink.innerHTML = docLinkHtml;\n",
              "          element.appendChild(docLink);\n",
              "        }\n",
              "      </script>\n",
              "    </div>\n",
              "  </div>\n",
              "  "
            ]
          },
          "metadata": {},
          "execution_count": 4
        }
      ]
    },
    {
      "cell_type": "code",
      "source": [
        "dataset2"
      ],
      "metadata": {
        "colab": {
          "base_uri": "https://localhost:8080/",
          "height": 424
        },
        "id": "NCoI_L_4ZFBq",
        "outputId": "3e3bed7d-82d0-4d33-a9b4-2d2fb8ecb8d9"
      },
      "execution_count": 5,
      "outputs": [
        {
          "output_type": "execute_result",
          "data": {
            "text/plain": [
              "     _id  Rayon    Luas genangan  Tinggi genangan  Lama genangan  \\\n",
              "0      1      1  108.000.000.000               10             40   \n",
              "1      2      1  816.236.000.000               25             58   \n",
              "2      3      1  509.047.000.000               15             16   \n",
              "3      4      1  785.111.000.000               10             40   \n",
              "4      5      1  749.717.000.000               30             16   \n",
              "..   ...    ...              ...              ...            ...   \n",
              "239  240      5  334.177.000.000                9              3   \n",
              "240  241      3  851.371.000.000                9              3   \n",
              "241  242      2  199.800.000.000                9             15   \n",
              "242  243      3  158.300.000.000                9             20   \n",
              "243  244      2  164.100.000.000                4             15   \n",
              "\n",
              "     Skor_Luas_Genangan  Skor_Tinggi_Genangan  Skor_Lama_Genangan  \n",
              "0                   100                    25                  25  \n",
              "1                    75                    50                  25  \n",
              "2                    75                    50                   0  \n",
              "3                    75                    25                  25  \n",
              "4                    75                    50                   0  \n",
              "..                  ...                   ...                 ...  \n",
              "239                  50                    25                   0  \n",
              "240                  75                    25                   0  \n",
              "241                 100                    25                   0  \n",
              "242                 100                    25                   0  \n",
              "243                 100                     0                   0  \n",
              "\n",
              "[244 rows x 8 columns]"
            ],
            "text/html": [
              "\n",
              "  <div id=\"df-4bf6fb11-a0cc-4e01-ad1f-bdff87412edb\">\n",
              "    <div class=\"colab-df-container\">\n",
              "      <div>\n",
              "<style scoped>\n",
              "    .dataframe tbody tr th:only-of-type {\n",
              "        vertical-align: middle;\n",
              "    }\n",
              "\n",
              "    .dataframe tbody tr th {\n",
              "        vertical-align: top;\n",
              "    }\n",
              "\n",
              "    .dataframe thead th {\n",
              "        text-align: right;\n",
              "    }\n",
              "</style>\n",
              "<table border=\"1\" class=\"dataframe\">\n",
              "  <thead>\n",
              "    <tr style=\"text-align: right;\">\n",
              "      <th></th>\n",
              "      <th>_id</th>\n",
              "      <th>Rayon</th>\n",
              "      <th>Luas genangan</th>\n",
              "      <th>Tinggi genangan</th>\n",
              "      <th>Lama genangan</th>\n",
              "      <th>Skor_Luas_Genangan</th>\n",
              "      <th>Skor_Tinggi_Genangan</th>\n",
              "      <th>Skor_Lama_Genangan</th>\n",
              "    </tr>\n",
              "  </thead>\n",
              "  <tbody>\n",
              "    <tr>\n",
              "      <th>0</th>\n",
              "      <td>1</td>\n",
              "      <td>1</td>\n",
              "      <td>108.000.000.000</td>\n",
              "      <td>10</td>\n",
              "      <td>40</td>\n",
              "      <td>100</td>\n",
              "      <td>25</td>\n",
              "      <td>25</td>\n",
              "    </tr>\n",
              "    <tr>\n",
              "      <th>1</th>\n",
              "      <td>2</td>\n",
              "      <td>1</td>\n",
              "      <td>816.236.000.000</td>\n",
              "      <td>25</td>\n",
              "      <td>58</td>\n",
              "      <td>75</td>\n",
              "      <td>50</td>\n",
              "      <td>25</td>\n",
              "    </tr>\n",
              "    <tr>\n",
              "      <th>2</th>\n",
              "      <td>3</td>\n",
              "      <td>1</td>\n",
              "      <td>509.047.000.000</td>\n",
              "      <td>15</td>\n",
              "      <td>16</td>\n",
              "      <td>75</td>\n",
              "      <td>50</td>\n",
              "      <td>0</td>\n",
              "    </tr>\n",
              "    <tr>\n",
              "      <th>3</th>\n",
              "      <td>4</td>\n",
              "      <td>1</td>\n",
              "      <td>785.111.000.000</td>\n",
              "      <td>10</td>\n",
              "      <td>40</td>\n",
              "      <td>75</td>\n",
              "      <td>25</td>\n",
              "      <td>25</td>\n",
              "    </tr>\n",
              "    <tr>\n",
              "      <th>4</th>\n",
              "      <td>5</td>\n",
              "      <td>1</td>\n",
              "      <td>749.717.000.000</td>\n",
              "      <td>30</td>\n",
              "      <td>16</td>\n",
              "      <td>75</td>\n",
              "      <td>50</td>\n",
              "      <td>0</td>\n",
              "    </tr>\n",
              "    <tr>\n",
              "      <th>...</th>\n",
              "      <td>...</td>\n",
              "      <td>...</td>\n",
              "      <td>...</td>\n",
              "      <td>...</td>\n",
              "      <td>...</td>\n",
              "      <td>...</td>\n",
              "      <td>...</td>\n",
              "      <td>...</td>\n",
              "    </tr>\n",
              "    <tr>\n",
              "      <th>239</th>\n",
              "      <td>240</td>\n",
              "      <td>5</td>\n",
              "      <td>334.177.000.000</td>\n",
              "      <td>9</td>\n",
              "      <td>3</td>\n",
              "      <td>50</td>\n",
              "      <td>25</td>\n",
              "      <td>0</td>\n",
              "    </tr>\n",
              "    <tr>\n",
              "      <th>240</th>\n",
              "      <td>241</td>\n",
              "      <td>3</td>\n",
              "      <td>851.371.000.000</td>\n",
              "      <td>9</td>\n",
              "      <td>3</td>\n",
              "      <td>75</td>\n",
              "      <td>25</td>\n",
              "      <td>0</td>\n",
              "    </tr>\n",
              "    <tr>\n",
              "      <th>241</th>\n",
              "      <td>242</td>\n",
              "      <td>2</td>\n",
              "      <td>199.800.000.000</td>\n",
              "      <td>9</td>\n",
              "      <td>15</td>\n",
              "      <td>100</td>\n",
              "      <td>25</td>\n",
              "      <td>0</td>\n",
              "    </tr>\n",
              "    <tr>\n",
              "      <th>242</th>\n",
              "      <td>243</td>\n",
              "      <td>3</td>\n",
              "      <td>158.300.000.000</td>\n",
              "      <td>9</td>\n",
              "      <td>20</td>\n",
              "      <td>100</td>\n",
              "      <td>25</td>\n",
              "      <td>0</td>\n",
              "    </tr>\n",
              "    <tr>\n",
              "      <th>243</th>\n",
              "      <td>244</td>\n",
              "      <td>2</td>\n",
              "      <td>164.100.000.000</td>\n",
              "      <td>4</td>\n",
              "      <td>15</td>\n",
              "      <td>100</td>\n",
              "      <td>0</td>\n",
              "      <td>0</td>\n",
              "    </tr>\n",
              "  </tbody>\n",
              "</table>\n",
              "<p>244 rows × 8 columns</p>\n",
              "</div>\n",
              "      <button class=\"colab-df-convert\" onclick=\"convertToInteractive('df-4bf6fb11-a0cc-4e01-ad1f-bdff87412edb')\"\n",
              "              title=\"Convert this dataframe to an interactive table.\"\n",
              "              style=\"display:none;\">\n",
              "        \n",
              "  <svg xmlns=\"http://www.w3.org/2000/svg\" height=\"24px\"viewBox=\"0 0 24 24\"\n",
              "       width=\"24px\">\n",
              "    <path d=\"M0 0h24v24H0V0z\" fill=\"none\"/>\n",
              "    <path d=\"M18.56 5.44l.94 2.06.94-2.06 2.06-.94-2.06-.94-.94-2.06-.94 2.06-2.06.94zm-11 1L8.5 8.5l.94-2.06 2.06-.94-2.06-.94L8.5 2.5l-.94 2.06-2.06.94zm10 10l.94 2.06.94-2.06 2.06-.94-2.06-.94-.94-2.06-.94 2.06-2.06.94z\"/><path d=\"M17.41 7.96l-1.37-1.37c-.4-.4-.92-.59-1.43-.59-.52 0-1.04.2-1.43.59L10.3 9.45l-7.72 7.72c-.78.78-.78 2.05 0 2.83L4 21.41c.39.39.9.59 1.41.59.51 0 1.02-.2 1.41-.59l7.78-7.78 2.81-2.81c.8-.78.8-2.07 0-2.86zM5.41 20L4 18.59l7.72-7.72 1.47 1.35L5.41 20z\"/>\n",
              "  </svg>\n",
              "      </button>\n",
              "      \n",
              "  <style>\n",
              "    .colab-df-container {\n",
              "      display:flex;\n",
              "      flex-wrap:wrap;\n",
              "      gap: 12px;\n",
              "    }\n",
              "\n",
              "    .colab-df-convert {\n",
              "      background-color: #E8F0FE;\n",
              "      border: none;\n",
              "      border-radius: 50%;\n",
              "      cursor: pointer;\n",
              "      display: none;\n",
              "      fill: #1967D2;\n",
              "      height: 32px;\n",
              "      padding: 0 0 0 0;\n",
              "      width: 32px;\n",
              "    }\n",
              "\n",
              "    .colab-df-convert:hover {\n",
              "      background-color: #E2EBFA;\n",
              "      box-shadow: 0px 1px 2px rgba(60, 64, 67, 0.3), 0px 1px 3px 1px rgba(60, 64, 67, 0.15);\n",
              "      fill: #174EA6;\n",
              "    }\n",
              "\n",
              "    [theme=dark] .colab-df-convert {\n",
              "      background-color: #3B4455;\n",
              "      fill: #D2E3FC;\n",
              "    }\n",
              "\n",
              "    [theme=dark] .colab-df-convert:hover {\n",
              "      background-color: #434B5C;\n",
              "      box-shadow: 0px 1px 3px 1px rgba(0, 0, 0, 0.15);\n",
              "      filter: drop-shadow(0px 1px 2px rgba(0, 0, 0, 0.3));\n",
              "      fill: #FFFFFF;\n",
              "    }\n",
              "  </style>\n",
              "\n",
              "      <script>\n",
              "        const buttonEl =\n",
              "          document.querySelector('#df-4bf6fb11-a0cc-4e01-ad1f-bdff87412edb button.colab-df-convert');\n",
              "        buttonEl.style.display =\n",
              "          google.colab.kernel.accessAllowed ? 'block' : 'none';\n",
              "\n",
              "        async function convertToInteractive(key) {\n",
              "          const element = document.querySelector('#df-4bf6fb11-a0cc-4e01-ad1f-bdff87412edb');\n",
              "          const dataTable =\n",
              "            await google.colab.kernel.invokeFunction('convertToInteractive',\n",
              "                                                     [key], {});\n",
              "          if (!dataTable) return;\n",
              "\n",
              "          const docLinkHtml = 'Like what you see? Visit the ' +\n",
              "            '<a target=\"_blank\" href=https://colab.research.google.com/notebooks/data_table.ipynb>data table notebook</a>'\n",
              "            + ' to learn more about interactive tables.';\n",
              "          element.innerHTML = '';\n",
              "          dataTable['output_type'] = 'display_data';\n",
              "          await google.colab.output.renderOutput(dataTable, element);\n",
              "          const docLink = document.createElement('div');\n",
              "          docLink.innerHTML = docLinkHtml;\n",
              "          element.appendChild(docLink);\n",
              "        }\n",
              "      </script>\n",
              "    </div>\n",
              "  </div>\n",
              "  "
            ]
          },
          "metadata": {},
          "execution_count": 5
        }
      ]
    },
    {
      "cell_type": "code",
      "source": [
        "dataset.head()"
      ],
      "metadata": {
        "colab": {
          "base_uri": "https://localhost:8080/",
          "height": 354
        },
        "id": "9EC8TQwbZHn5",
        "outputId": "b011802f-be0c-4440-c6b3-3b27aab60838"
      },
      "execution_count": 6,
      "outputs": [
        {
          "output_type": "execute_result",
          "data": {
            "text/plain": [
              "   _id                               Lokasi     Kecamatan    Kelurahan  \\\n",
              "0    1           Jl. Pakis Agosari (Yamaha)   Dukuh Pakis  Dukuh Pakis   \n",
              "1    2  Jl. Mayjend Sungkono - Darmo Park I   Dukuh Pakis  Dukuh Pakis   \n",
              "2    3    Jl. Mayjend Sungkono (Pom Bensin)   Dukuh Pakis  Dukuh Pakis   \n",
              "3    4                          Kp. Kebraon  Karangpilang   Warugunung   \n",
              "4    5              Jl. Lakar Santri RW.001   Lakarsantri   Bangkingan   \n",
              "\n",
              "          Rayon  Luas genangan  Tinggi genangan  Lama genangan  \\\n",
              "0  Rayon Wiyung      10.800000               10             40   \n",
              "1  Rayon Wiyung       0.816236               25             58   \n",
              "2  Rayon Wiyung       0.509047               15             16   \n",
              "3  Rayon Wiyung       0.785111               10             40   \n",
              "4  Rayon Wiyung       0.749717               30             16   \n",
              "\n",
              "   Skor Luas Genangan  Skor Tinggi Genangan  Skor Lama Genangan  \n",
              "0                 100                    25                  25  \n",
              "1                  75                    50                  25  \n",
              "2                  75                    50                   0  \n",
              "3                  75                    25                  25  \n",
              "4                  75                    50                   0  "
            ],
            "text/html": [
              "\n",
              "  <div id=\"df-95009230-c9c3-4f48-8c0f-2261e3967194\">\n",
              "    <div class=\"colab-df-container\">\n",
              "      <div>\n",
              "<style scoped>\n",
              "    .dataframe tbody tr th:only-of-type {\n",
              "        vertical-align: middle;\n",
              "    }\n",
              "\n",
              "    .dataframe tbody tr th {\n",
              "        vertical-align: top;\n",
              "    }\n",
              "\n",
              "    .dataframe thead th {\n",
              "        text-align: right;\n",
              "    }\n",
              "</style>\n",
              "<table border=\"1\" class=\"dataframe\">\n",
              "  <thead>\n",
              "    <tr style=\"text-align: right;\">\n",
              "      <th></th>\n",
              "      <th>_id</th>\n",
              "      <th>Lokasi</th>\n",
              "      <th>Kecamatan</th>\n",
              "      <th>Kelurahan</th>\n",
              "      <th>Rayon</th>\n",
              "      <th>Luas genangan</th>\n",
              "      <th>Tinggi genangan</th>\n",
              "      <th>Lama genangan</th>\n",
              "      <th>Skor Luas Genangan</th>\n",
              "      <th>Skor Tinggi Genangan</th>\n",
              "      <th>Skor Lama Genangan</th>\n",
              "    </tr>\n",
              "  </thead>\n",
              "  <tbody>\n",
              "    <tr>\n",
              "      <th>0</th>\n",
              "      <td>1</td>\n",
              "      <td>Jl. Pakis Agosari (Yamaha)</td>\n",
              "      <td>Dukuh Pakis</td>\n",
              "      <td>Dukuh Pakis</td>\n",
              "      <td>Rayon Wiyung</td>\n",
              "      <td>10.800000</td>\n",
              "      <td>10</td>\n",
              "      <td>40</td>\n",
              "      <td>100</td>\n",
              "      <td>25</td>\n",
              "      <td>25</td>\n",
              "    </tr>\n",
              "    <tr>\n",
              "      <th>1</th>\n",
              "      <td>2</td>\n",
              "      <td>Jl. Mayjend Sungkono - Darmo Park I</td>\n",
              "      <td>Dukuh Pakis</td>\n",
              "      <td>Dukuh Pakis</td>\n",
              "      <td>Rayon Wiyung</td>\n",
              "      <td>0.816236</td>\n",
              "      <td>25</td>\n",
              "      <td>58</td>\n",
              "      <td>75</td>\n",
              "      <td>50</td>\n",
              "      <td>25</td>\n",
              "    </tr>\n",
              "    <tr>\n",
              "      <th>2</th>\n",
              "      <td>3</td>\n",
              "      <td>Jl. Mayjend Sungkono (Pom Bensin)</td>\n",
              "      <td>Dukuh Pakis</td>\n",
              "      <td>Dukuh Pakis</td>\n",
              "      <td>Rayon Wiyung</td>\n",
              "      <td>0.509047</td>\n",
              "      <td>15</td>\n",
              "      <td>16</td>\n",
              "      <td>75</td>\n",
              "      <td>50</td>\n",
              "      <td>0</td>\n",
              "    </tr>\n",
              "    <tr>\n",
              "      <th>3</th>\n",
              "      <td>4</td>\n",
              "      <td>Kp. Kebraon</td>\n",
              "      <td>Karangpilang</td>\n",
              "      <td>Warugunung</td>\n",
              "      <td>Rayon Wiyung</td>\n",
              "      <td>0.785111</td>\n",
              "      <td>10</td>\n",
              "      <td>40</td>\n",
              "      <td>75</td>\n",
              "      <td>25</td>\n",
              "      <td>25</td>\n",
              "    </tr>\n",
              "    <tr>\n",
              "      <th>4</th>\n",
              "      <td>5</td>\n",
              "      <td>Jl. Lakar Santri RW.001</td>\n",
              "      <td>Lakarsantri</td>\n",
              "      <td>Bangkingan</td>\n",
              "      <td>Rayon Wiyung</td>\n",
              "      <td>0.749717</td>\n",
              "      <td>30</td>\n",
              "      <td>16</td>\n",
              "      <td>75</td>\n",
              "      <td>50</td>\n",
              "      <td>0</td>\n",
              "    </tr>\n",
              "  </tbody>\n",
              "</table>\n",
              "</div>\n",
              "      <button class=\"colab-df-convert\" onclick=\"convertToInteractive('df-95009230-c9c3-4f48-8c0f-2261e3967194')\"\n",
              "              title=\"Convert this dataframe to an interactive table.\"\n",
              "              style=\"display:none;\">\n",
              "        \n",
              "  <svg xmlns=\"http://www.w3.org/2000/svg\" height=\"24px\"viewBox=\"0 0 24 24\"\n",
              "       width=\"24px\">\n",
              "    <path d=\"M0 0h24v24H0V0z\" fill=\"none\"/>\n",
              "    <path d=\"M18.56 5.44l.94 2.06.94-2.06 2.06-.94-2.06-.94-.94-2.06-.94 2.06-2.06.94zm-11 1L8.5 8.5l.94-2.06 2.06-.94-2.06-.94L8.5 2.5l-.94 2.06-2.06.94zm10 10l.94 2.06.94-2.06 2.06-.94-2.06-.94-.94-2.06-.94 2.06-2.06.94z\"/><path d=\"M17.41 7.96l-1.37-1.37c-.4-.4-.92-.59-1.43-.59-.52 0-1.04.2-1.43.59L10.3 9.45l-7.72 7.72c-.78.78-.78 2.05 0 2.83L4 21.41c.39.39.9.59 1.41.59.51 0 1.02-.2 1.41-.59l7.78-7.78 2.81-2.81c.8-.78.8-2.07 0-2.86zM5.41 20L4 18.59l7.72-7.72 1.47 1.35L5.41 20z\"/>\n",
              "  </svg>\n",
              "      </button>\n",
              "      \n",
              "  <style>\n",
              "    .colab-df-container {\n",
              "      display:flex;\n",
              "      flex-wrap:wrap;\n",
              "      gap: 12px;\n",
              "    }\n",
              "\n",
              "    .colab-df-convert {\n",
              "      background-color: #E8F0FE;\n",
              "      border: none;\n",
              "      border-radius: 50%;\n",
              "      cursor: pointer;\n",
              "      display: none;\n",
              "      fill: #1967D2;\n",
              "      height: 32px;\n",
              "      padding: 0 0 0 0;\n",
              "      width: 32px;\n",
              "    }\n",
              "\n",
              "    .colab-df-convert:hover {\n",
              "      background-color: #E2EBFA;\n",
              "      box-shadow: 0px 1px 2px rgba(60, 64, 67, 0.3), 0px 1px 3px 1px rgba(60, 64, 67, 0.15);\n",
              "      fill: #174EA6;\n",
              "    }\n",
              "\n",
              "    [theme=dark] .colab-df-convert {\n",
              "      background-color: #3B4455;\n",
              "      fill: #D2E3FC;\n",
              "    }\n",
              "\n",
              "    [theme=dark] .colab-df-convert:hover {\n",
              "      background-color: #434B5C;\n",
              "      box-shadow: 0px 1px 3px 1px rgba(0, 0, 0, 0.15);\n",
              "      filter: drop-shadow(0px 1px 2px rgba(0, 0, 0, 0.3));\n",
              "      fill: #FFFFFF;\n",
              "    }\n",
              "  </style>\n",
              "\n",
              "      <script>\n",
              "        const buttonEl =\n",
              "          document.querySelector('#df-95009230-c9c3-4f48-8c0f-2261e3967194 button.colab-df-convert');\n",
              "        buttonEl.style.display =\n",
              "          google.colab.kernel.accessAllowed ? 'block' : 'none';\n",
              "\n",
              "        async function convertToInteractive(key) {\n",
              "          const element = document.querySelector('#df-95009230-c9c3-4f48-8c0f-2261e3967194');\n",
              "          const dataTable =\n",
              "            await google.colab.kernel.invokeFunction('convertToInteractive',\n",
              "                                                     [key], {});\n",
              "          if (!dataTable) return;\n",
              "\n",
              "          const docLinkHtml = 'Like what you see? Visit the ' +\n",
              "            '<a target=\"_blank\" href=https://colab.research.google.com/notebooks/data_table.ipynb>data table notebook</a>'\n",
              "            + ' to learn more about interactive tables.';\n",
              "          element.innerHTML = '';\n",
              "          dataTable['output_type'] = 'display_data';\n",
              "          await google.colab.output.renderOutput(dataTable, element);\n",
              "          const docLink = document.createElement('div');\n",
              "          docLink.innerHTML = docLinkHtml;\n",
              "          element.appendChild(docLink);\n",
              "        }\n",
              "      </script>\n",
              "    </div>\n",
              "  </div>\n",
              "  "
            ]
          },
          "metadata": {},
          "execution_count": 6
        }
      ]
    },
    {
      "cell_type": "code",
      "source": [
        "dataset.isna().sum()"
      ],
      "metadata": {
        "colab": {
          "base_uri": "https://localhost:8080/"
        },
        "id": "awv3ZXYfZLgJ",
        "outputId": "705e489f-c58a-4e26-b931-e555e5d64564"
      },
      "execution_count": 7,
      "outputs": [
        {
          "output_type": "execute_result",
          "data": {
            "text/plain": [
              "_id                     0\n",
              "Lokasi                  0\n",
              "Kecamatan               0\n",
              "Kelurahan               0\n",
              "Rayon                   0\n",
              "Luas genangan           0\n",
              "Tinggi genangan         0\n",
              "Lama genangan           0\n",
              "Skor Luas Genangan      0\n",
              "Skor Tinggi Genangan    0\n",
              "Skor Lama Genangan      0\n",
              "dtype: int64"
            ]
          },
          "metadata": {},
          "execution_count": 7
        }
      ]
    },
    {
      "cell_type": "code",
      "source": [
        "dataset.duplicated().sum()"
      ],
      "metadata": {
        "colab": {
          "base_uri": "https://localhost:8080/"
        },
        "id": "OZ1rhIAzZQhk",
        "outputId": "782d965a-1d61-4645-babe-9af7a38b364b"
      },
      "execution_count": 8,
      "outputs": [
        {
          "output_type": "execute_result",
          "data": {
            "text/plain": [
              "0"
            ]
          },
          "metadata": {},
          "execution_count": 8
        }
      ]
    },
    {
      "cell_type": "code",
      "source": [
        "#type dataset\n",
        "dataset.dtypes"
      ],
      "metadata": {
        "colab": {
          "base_uri": "https://localhost:8080/"
        },
        "id": "29O_dvaQZVMx",
        "outputId": "7b164acf-77d6-420b-f57b-0e4d05803be6"
      },
      "execution_count": 9,
      "outputs": [
        {
          "output_type": "execute_result",
          "data": {
            "text/plain": [
              "_id                       int64\n",
              "Lokasi                   object\n",
              "Kecamatan                object\n",
              "Kelurahan                object\n",
              "Rayon                    object\n",
              "Luas genangan           float64\n",
              "Tinggi genangan           int64\n",
              "Lama genangan             int64\n",
              "Skor Luas Genangan        int64\n",
              "Skor Tinggi Genangan      int64\n",
              "Skor Lama Genangan        int64\n",
              "dtype: object"
            ]
          },
          "metadata": {},
          "execution_count": 9
        }
      ]
    },
    {
      "cell_type": "code",
      "source": [
        "dataset.info"
      ],
      "metadata": {
        "colab": {
          "base_uri": "https://localhost:8080/"
        },
        "id": "QsaynZkrZY8C",
        "outputId": "3e291a6b-78f5-4640-c636-0258bfab5828"
      },
      "execution_count": 10,
      "outputs": [
        {
          "output_type": "execute_result",
          "data": {
            "text/plain": [
              "<bound method DataFrame.info of      _id                               Lokasi      Kecamatan      Kelurahan  \\\n",
              "0      1           Jl. Pakis Agosari (Yamaha)    Dukuh Pakis    Dukuh Pakis   \n",
              "1      2  Jl. Mayjend Sungkono - Darmo Park I    Dukuh Pakis    Dukuh Pakis   \n",
              "2      3    Jl. Mayjend Sungkono (Pom Bensin)    Dukuh Pakis    Dukuh Pakis   \n",
              "3      4                          Kp. Kebraon   Karangpilang     Warugunung   \n",
              "4      5              Jl. Lakar Santri RW.001    Lakarsantri     Bangkingan   \n",
              "..   ...                                  ...            ...            ...   \n",
              "239  240                            Jl. Kanwa      WONOKROMO          DARMO   \n",
              "240  241                 Per. Rungkut Harapan        Rungkut  Rungkut Kidul   \n",
              "241  242                        TANJUNGSARI I  SUKOMANUNGGAL    TANJUNGSARI   \n",
              "242  243                       Jl. Karangrejo      Wonokromo      Wonokromo   \n",
              "243  244                       Kp. Tambakdono         Benowo     Tambakdono   \n",
              "\n",
              "               Rayon  Luas genangan  Tinggi genangan  Lama genangan  \\\n",
              "0       Rayon Wiyung      10.800000               10             40   \n",
              "1       Rayon Wiyung       0.816236               25             58   \n",
              "2       Rayon Wiyung       0.509047               15             16   \n",
              "3       Rayon Wiyung       0.785111               10             40   \n",
              "4       Rayon Wiyung       0.749717               30             16   \n",
              "..               ...            ...              ...            ...   \n",
              "239    Rayon Genteng       0.334177                9              3   \n",
              "240  Rayon Jambangan       0.851371                9              3   \n",
              "241     Rayon Tandes      19.980000                9             15   \n",
              "242  Rayon Jambangan      15.830000                9             20   \n",
              "243     Rayon Tandes      16.410000                4             15   \n",
              "\n",
              "     Skor Luas Genangan  Skor Tinggi Genangan  Skor Lama Genangan  \n",
              "0                   100                    25                  25  \n",
              "1                    75                    50                  25  \n",
              "2                    75                    50                   0  \n",
              "3                    75                    25                  25  \n",
              "4                    75                    50                   0  \n",
              "..                  ...                   ...                 ...  \n",
              "239                  50                    25                   0  \n",
              "240                  75                    25                   0  \n",
              "241                 100                    25                   0  \n",
              "242                 100                    25                   0  \n",
              "243                 100                     0                   0  \n",
              "\n",
              "[244 rows x 11 columns]>"
            ]
          },
          "metadata": {},
          "execution_count": 10
        }
      ]
    },
    {
      "cell_type": "markdown",
      "source": [
        "**Eksplorasi data (EDA)**"
      ],
      "metadata": {
        "id": "KgR1PB05ZeTJ"
      }
    },
    {
      "cell_type": "code",
      "source": [
        "plt.figure(figsize=(10,5))\n",
        "plt.title(\"Skor Luas Genangan\",fontsize=16)\n",
        "plt.xlabel (\"Skor Luas Genangan\",fontsize=10)\n",
        "plt.ylabel (\"Jumlah\",fontsize=10)\n",
        "plt.hist(dataset2['Skor_Luas_Genangan'],color='#FF7043')\n",
        "plt.show()"
      ],
      "metadata": {
        "colab": {
          "base_uri": "https://localhost:8080/",
          "height": 352
        },
        "id": "L1J2AmaRZey5",
        "outputId": "1666816e-3de5-4617-e183-c2f927f4780e"
      },
      "execution_count": 11,
      "outputs": [
        {
          "output_type": "display_data",
          "data": {
            "text/plain": [
              "<Figure size 720x360 with 1 Axes>"
            ],
            "image/png": "[encoded data removed]"
          },
          "metadata": {
            "needs_background": "light"
          }
        }
      ]
    },
    {
      "cell_type": "code",
      "source": [
        "plt.figure(figsize=(10,5))\n",
        "plt.title(\"Skor Tinggi Genangan\",fontsize=16)\n",
        "plt.xlabel (\"Skor Tinggi Genangan\",fontsize=10)\n",
        "plt.ylabel (\"Jumlah\",fontsize=10)\n",
        "plt.hist(dataset2['Skor_Tinggi_Genangan'],color='#FF7043')\n",
        "plt.show()"
      ],
      "metadata": {
        "colab": {
          "base_uri": "https://localhost:8080/",
          "height": 352
        },
        "id": "MgVexJmvZjNz",
        "outputId": "4b308c06-7bda-43f4-a245-8a3a33341310"
      },
      "execution_count": 12,
      "outputs": [
        {
          "output_type": "display_data",
          "data": {
            "text/plain": [
              "<Figure size 720x360 with 1 Axes>"
            ],
            "image/png": "[encoded data removed]"
          },
          "metadata": {
            "needs_background": "light"
          }
        }
      ]
    },
    {
      "cell_type": "code",
      "source": [
        "plt.figure(figsize=(10,5))\n",
        "plt.title(\"Skor Lama Genangan\",fontsize=16)\n",
        "plt.xlabel (\"Skor Lama Genangan\",fontsize=10)\n",
        "plt.ylabel (\"Jumlah\",fontsize=10)\n",
        "plt.hist(dataset2['Skor_Lama_Genangan'],color='#FF7043')\n",
        "plt.show()"
      ],
      "metadata": {
        "colab": {
          "base_uri": "https://localhost:8080/",
          "height": 352
        },
        "id": "VUzJ6PdFZk7E",
        "outputId": "0217c558-5cf6-447c-c260-f4ee9025506c"
      },
      "execution_count": 13,
      "outputs": [
        {
          "output_type": "display_data",
          "data": {
            "text/plain": [
              "<Figure size 720x360 with 1 Axes>"
            ],
            "image/png": "[encoded data removed]"
          },
          "metadata": {
            "needs_background": "light"
          }
        }
      ]
    },
    {
      "cell_type": "code",
      "source": [
        "plt.figure(figsize=(10,5))\n",
        "plt.subplot(121)\n",
        "sns.boxplot(y=dataset[\"Skor Lama Genangan\"])\n",
        "plt.figure(figsize=(10,100))\n",
        "plt.subplot(122)\n",
        "sns.boxplot(x=dataset['Skor Lama Genangan'],y=dataset[\"Rayon\"])"
      ],
      "metadata": {
        "colab": {
          "base_uri": "https://localhost:8080/",
          "height": 1000
        },
        "id": "fzI6OtixZosJ",
        "outputId": "9600a73f-4f50-4830-9894-270d93675504"
      },
      "execution_count": 14,
      "outputs": [
        {
          "output_type": "execute_result",
          "data": {
            "text/plain": [
              "<matplotlib.axes._subplots.AxesSubplot at 0x7f1010090f50>"
            ]
          },
          "metadata": {},
          "execution_count": 14
        },
        {
          "output_type": "display_data",
          "data": {
            "text/plain": [
              "<Figure size 720x360 with 1 Axes>"
            ],
            "image/png": "[encoded data removed]"
          },
          "metadata": {
            "needs_background": "light"
          }
        },
        {
          "output_type": "display_data",
          "data": {
            "text/plain": [
              "<Figure size 720x7200 with 1 Axes>"
            ],
            "image/png": "[encoded data removed]"
          },
          "metadata": {
            "needs_background": "light"
          }
        }
      ]
    },
    {
      "cell_type": "code",
      "source": [
        "sns.heatmap(dataset.corr(), annot = True)\n",
        "plt.show()"
      ],
      "metadata": {
        "colab": {
          "base_uri": "https://localhost:8080/",
          "height": 370
        },
        "id": "kKfuXLV9Zrjn",
        "outputId": "ebdfc8af-d63b-4dda-87ef-6245bb61b5db"
      },
      "execution_count": 15,
      "outputs": [
        {
          "output_type": "display_data",
          "data": {
            "text/plain": [
              "<Figure size 432x288 with 2 Axes>"
            ],
            "image/png": "[encoded data removed]"
          },
          "metadata": {
            "needs_background": "light"
          }
        }
      ]
    },
    {
      "cell_type": "markdown",
      "source": [
        "**K-MEANS**"
      ],
      "metadata": {
        "id": "heLHb_hnZvoZ"
      }
    },
    {
      "cell_type": "code",
      "source": [
        "from sklearn.cluster import KMeans\n",
        "from sklearn.preprocessing import MinMaxScaler\n",
        "from sklearn.preprocessing import scale # Data scaling\n",
        "from sklearn import decomposition\n",
        "from sklearn.preprocessing import StandardScaler"
      ],
      "metadata": {
        "id": "rcRk3qV9ZyCJ"
      },
      "execution_count": 16,
      "outputs": []
    },
    {
      "cell_type": "code",
      "source": [
        "array_x=dataset[['Skor Luas Genangan','Skor Tinggi Genangan','Skor Lama Genangan']]"
      ],
      "metadata": {
        "id": "YSNwUaJFZ5h5"
      },
      "execution_count": 17,
      "outputs": []
    },
    {
      "cell_type": "code",
      "source": [
        "scaler_fit = MinMaxScaler()\n",
        "scaled_x = scaler_fit.fit_transform(array_x)\n",
        "scaled_x"
      ],
      "metadata": {
        "colab": {
          "base_uri": "https://localhost:8080/"
        },
        "id": "QNYb2m3LZ7yB",
        "outputId": "5398f75f-8571-4425-d26b-d4c1d297bd2e"
      },
      "execution_count": 18,
      "outputs": [
        {
          "output_type": "execute_result",
          "data": {
            "text/plain": [
              "array([[1.        , 0.33333333, 0.5       ],\n",
              "       [0.5       , 0.66666667, 0.5       ],\n",
              "       [0.5       , 0.66666667, 0.        ],\n",
              "       [0.5       , 0.33333333, 0.5       ],\n",
              "       [0.5       , 0.66666667, 0.        ],\n",
              "       [0.5       , 0.        , 0.        ],\n",
              "       [1.        , 0.33333333, 0.        ],\n",
              "       [0.        , 0.33333333, 0.        ],\n",
              "       [0.        , 0.        , 0.        ],\n",
              "       [0.        , 0.66666667, 0.        ],\n",
              "       [0.        , 0.66666667, 0.        ],\n",
              "       [0.        , 0.66666667, 0.        ],\n",
              "       [0.        , 0.66666667, 0.5       ],\n",
              "       [0.5       , 0.33333333, 0.5       ],\n",
              "       [0.5       , 1.        , 1.        ],\n",
              "       [0.5       , 0.66666667, 0.5       ],\n",
              "       [0.        , 0.66666667, 0.5       ],\n",
              "       [1.        , 0.33333333, 0.5       ],\n",
              "       [0.        , 0.33333333, 0.        ],\n",
              "       [0.        , 0.33333333, 0.5       ],\n",
              "       [0.        , 0.66666667, 0.        ],\n",
              "       [1.        , 0.66666667, 0.        ],\n",
              "       [0.        , 0.66666667, 0.5       ],\n",
              "       [0.        , 0.66666667, 0.        ],\n",
              "       [0.        , 0.66666667, 0.        ],\n",
              "       [0.        , 0.66666667, 0.        ],\n",
              "       [0.5       , 0.        , 0.        ],\n",
              "       [0.5       , 0.        , 0.        ],\n",
              "       [0.        , 0.33333333, 0.        ],\n",
              "       [0.        , 0.33333333, 0.        ],\n",
              "       [0.        , 0.33333333, 0.        ],\n",
              "       [1.        , 0.66666667, 0.        ],\n",
              "       [0.5       , 0.66666667, 0.        ],\n",
              "       [0.        , 0.        , 0.        ],\n",
              "       [0.5       , 0.33333333, 0.        ],\n",
              "       [0.5       , 0.33333333, 0.        ],\n",
              "       [1.        , 0.        , 0.        ],\n",
              "       [0.5       , 0.66666667, 0.        ],\n",
              "       [0.        , 0.33333333, 0.5       ],\n",
              "       [1.        , 0.33333333, 0.5       ],\n",
              "       [0.5       , 0.66666667, 0.5       ],\n",
              "       [0.5       , 0.33333333, 0.        ],\n",
              "       [1.        , 0.33333333, 0.        ],\n",
              "       [0.5       , 0.66666667, 0.        ],\n",
              "       [0.5       , 0.66666667, 0.        ],\n",
              "       [0.        , 0.66666667, 0.        ],\n",
              "       [0.        , 0.66666667, 0.5       ],\n",
              "       [0.5       , 0.66666667, 0.5       ],\n",
              "       [0.5       , 0.66666667, 0.        ],\n",
              "       [0.        , 0.        , 0.        ],\n",
              "       [1.        , 0.66666667, 0.5       ],\n",
              "       [0.5       , 0.        , 0.        ],\n",
              "       [1.        , 0.33333333, 0.        ],\n",
              "       [0.        , 0.33333333, 0.        ],\n",
              "       [0.        , 0.33333333, 0.        ],\n",
              "       [0.5       , 0.33333333, 0.        ],\n",
              "       [0.        , 0.66666667, 0.        ],\n",
              "       [0.        , 0.66666667, 0.        ],\n",
              "       [0.        , 0.33333333, 0.        ],\n",
              "       [0.        , 0.33333333, 0.        ],\n",
              "       [0.        , 0.33333333, 0.        ],\n",
              "       [0.5       , 0.33333333, 0.        ],\n",
              "       [0.5       , 0.33333333, 0.5       ],\n",
              "       [0.5       , 0.33333333, 0.        ],\n",
              "       [0.        , 0.33333333, 0.5       ],\n",
              "       [0.        , 0.        , 0.        ],\n",
              "       [0.5       , 0.66666667, 0.5       ],\n",
              "       [0.        , 0.33333333, 0.        ],\n",
              "       [1.        , 0.66666667, 0.        ],\n",
              "       [1.        , 0.33333333, 1.        ],\n",
              "       [0.        , 0.66666667, 0.        ],\n",
              "       [0.        , 0.33333333, 0.        ],\n",
              "       [0.        , 0.33333333, 0.        ],\n",
              "       [1.        , 0.66666667, 0.        ],\n",
              "       [0.5       , 0.33333333, 0.        ],\n",
              "       [0.5       , 0.66666667, 0.        ],\n",
              "       [0.        , 0.66666667, 0.        ],\n",
              "       [1.        , 0.66666667, 0.        ],\n",
              "       [1.        , 0.        , 0.        ],\n",
              "       [1.        , 0.33333333, 0.        ],\n",
              "       [0.        , 0.        , 0.        ],\n",
              "       [0.        , 0.66666667, 0.5       ],\n",
              "       [0.        , 0.33333333, 0.5       ],\n",
              "       [0.5       , 0.        , 0.5       ],\n",
              "       [1.        , 0.        , 0.        ],\n",
              "       [1.        , 0.        , 0.        ],\n",
              "       [0.5       , 0.33333333, 0.5       ],\n",
              "       [0.5       , 0.66666667, 0.5       ],\n",
              "       [0.        , 0.33333333, 0.        ],\n",
              "       [0.        , 0.        , 0.5       ],\n",
              "       [0.5       , 0.        , 0.        ],\n",
              "       [0.5       , 0.        , 0.        ],\n",
              "       [0.        , 0.        , 0.        ],\n",
              "       [0.5       , 0.33333333, 0.5       ],\n",
              "       [0.5       , 0.        , 0.        ],\n",
              "       [1.        , 0.33333333, 0.5       ],\n",
              "       [1.        , 0.33333333, 0.        ],\n",
              "       [0.5       , 0.33333333, 0.        ],\n",
              "       [0.5       , 0.33333333, 0.5       ],\n",
              "       [1.        , 0.        , 0.5       ],\n",
              "       [1.        , 0.        , 0.        ],\n",
              "       [0.        , 0.        , 0.        ],\n",
              "       [0.        , 0.33333333, 0.        ],\n",
              "       [1.        , 0.        , 0.        ],\n",
              "       [0.        , 0.        , 0.        ],\n",
              "       [1.        , 0.        , 0.5       ],\n",
              "       [0.5       , 0.33333333, 0.5       ],\n",
              "       [0.5       , 0.33333333, 0.5       ],\n",
              "       [0.5       , 0.33333333, 0.5       ],\n",
              "       [0.        , 0.33333333, 0.5       ],\n",
              "       [0.        , 0.33333333, 0.        ],\n",
              "       [0.        , 0.        , 0.        ],\n",
              "       [0.        , 0.        , 0.        ],\n",
              "       [0.        , 0.33333333, 0.5       ],\n",
              "       [0.5       , 0.66666667, 0.5       ],\n",
              "       [0.        , 0.        , 0.        ],\n",
              "       [0.        , 0.        , 0.        ],\n",
              "       [1.        , 0.33333333, 0.        ],\n",
              "       [1.        , 0.66666667, 0.        ],\n",
              "       [0.5       , 0.66666667, 0.        ],\n",
              "       [0.        , 0.33333333, 0.        ],\n",
              "       [0.        , 0.        , 0.        ],\n",
              "       [0.        , 0.33333333, 0.        ],\n",
              "       [0.        , 0.        , 0.        ],\n",
              "       [0.5       , 0.66666667, 1.        ],\n",
              "       [0.        , 0.33333333, 0.5       ],\n",
              "       [0.5       , 0.        , 0.        ],\n",
              "       [0.5       , 0.33333333, 0.        ],\n",
              "       [0.        , 0.33333333, 0.5       ],\n",
              "       [0.5       , 0.66666667, 0.5       ],\n",
              "       [0.        , 0.33333333, 0.        ],\n",
              "       [0.        , 0.33333333, 0.        ],\n",
              "       [0.        , 0.        , 0.        ],\n",
              "       [0.        , 0.33333333, 0.        ],\n",
              "       [0.5       , 0.33333333, 0.        ],\n",
              "       [0.        , 0.        , 0.        ],\n",
              "       [1.        , 0.        , 0.        ],\n",
              "       [0.        , 0.        , 0.        ],\n",
              "       [1.        , 0.33333333, 1.        ],\n",
              "       [0.        , 0.        , 0.        ],\n",
              "       [0.5       , 0.33333333, 0.        ],\n",
              "       [0.        , 0.        , 0.        ],\n",
              "       [0.        , 0.        , 0.        ],\n",
              "       [0.        , 0.33333333, 0.        ],\n",
              "       [0.5       , 0.33333333, 0.        ],\n",
              "       [0.        , 0.        , 0.        ],\n",
              "       [0.5       , 0.        , 0.5       ],\n",
              "       [0.5       , 0.        , 1.        ],\n",
              "       [0.        , 0.33333333, 0.        ],\n",
              "       [0.        , 0.66666667, 0.5       ],\n",
              "       [0.5       , 0.33333333, 1.        ],\n",
              "       [0.        , 0.        , 0.5       ],\n",
              "       [0.        , 0.33333333, 0.5       ],\n",
              "       [0.5       , 0.33333333, 0.        ],\n",
              "       [0.        , 0.33333333, 0.        ],\n",
              "       [0.5       , 0.        , 0.        ],\n",
              "       [0.5       , 0.33333333, 0.        ],\n",
              "       [1.        , 0.33333333, 0.        ],\n",
              "       [0.        , 0.33333333, 0.        ],\n",
              "       [0.        , 0.        , 0.        ],\n",
              "       [0.5       , 0.        , 0.        ],\n",
              "       [0.        , 0.        , 0.        ],\n",
              "       [0.        , 0.        , 0.        ],\n",
              "       [0.        , 0.33333333, 0.        ],\n",
              "       [0.        , 0.33333333, 0.        ],\n",
              "       [0.        , 0.        , 0.        ],\n",
              "       [0.5       , 0.66666667, 0.        ],\n",
              "       [0.        , 0.33333333, 0.        ],\n",
              "       [0.        , 0.        , 0.        ],\n",
              "       [0.        , 0.        , 0.        ],\n",
              "       [0.        , 0.33333333, 0.        ],\n",
              "       [0.        , 0.        , 0.        ],\n",
              "       [0.5       , 0.        , 0.        ],\n",
              "       [0.5       , 0.        , 0.        ],\n",
              "       [0.        , 0.66666667, 0.5       ],\n",
              "       [0.        , 0.66666667, 0.        ],\n",
              "       [0.        , 0.        , 0.        ],\n",
              "       [0.        , 0.33333333, 0.        ],\n",
              "       [0.        , 0.33333333, 0.        ],\n",
              "       [0.        , 0.33333333, 0.        ],\n",
              "       [1.        , 0.33333333, 0.        ],\n",
              "       [0.5       , 0.        , 0.        ],\n",
              "       [0.5       , 0.        , 0.        ],\n",
              "       [0.        , 0.        , 0.        ],\n",
              "       [0.5       , 0.66666667, 0.        ],\n",
              "       [0.5       , 0.        , 0.5       ],\n",
              "       [0.5       , 0.33333333, 0.        ],\n",
              "       [0.5       , 0.33333333, 0.5       ],\n",
              "       [0.        , 0.66666667, 0.5       ],\n",
              "       [1.        , 0.33333333, 0.        ],\n",
              "       [0.        , 0.66666667, 0.5       ],\n",
              "       [0.        , 0.66666667, 0.        ],\n",
              "       [0.5       , 0.66666667, 0.5       ],\n",
              "       [0.5       , 0.66666667, 0.5       ],\n",
              "       [0.5       , 0.66666667, 0.5       ],\n",
              "       [0.        , 0.        , 0.5       ],\n",
              "       [0.        , 0.33333333, 0.5       ],\n",
              "       [0.        , 0.66666667, 0.        ],\n",
              "       [1.        , 0.66666667, 0.5       ],\n",
              "       [0.        , 0.        , 0.        ],\n",
              "       [0.5       , 0.66666667, 0.5       ],\n",
              "       [0.        , 0.33333333, 0.        ],\n",
              "       [0.5       , 0.        , 0.        ],\n",
              "       [0.5       , 0.33333333, 0.        ],\n",
              "       [0.5       , 0.33333333, 0.5       ],\n",
              "       [0.        , 0.33333333, 0.        ],\n",
              "       [0.        , 0.33333333, 0.        ],\n",
              "       [0.5       , 0.33333333, 0.        ],\n",
              "       [0.        , 0.33333333, 0.        ],\n",
              "       [0.        , 0.33333333, 0.5       ],\n",
              "       [0.5       , 0.66666667, 0.5       ],\n",
              "       [0.5       , 0.33333333, 0.        ],\n",
              "       [0.        , 0.66666667, 0.        ],\n",
              "       [0.        , 0.66666667, 0.        ],\n",
              "       [0.        , 0.        , 0.        ],\n",
              "       [0.5       , 0.66666667, 0.        ],\n",
              "       [0.        , 0.33333333, 0.        ],\n",
              "       [0.5       , 0.33333333, 0.        ],\n",
              "       [0.5       , 0.33333333, 0.        ],\n",
              "       [0.        , 0.33333333, 0.        ],\n",
              "       [0.        , 0.33333333, 0.        ],\n",
              "       [0.5       , 0.33333333, 0.        ],\n",
              "       [0.5       , 0.33333333, 0.        ],\n",
              "       [0.5       , 0.33333333, 0.        ],\n",
              "       [0.5       , 0.33333333, 0.        ],\n",
              "       [0.5       , 0.33333333, 0.        ],\n",
              "       [1.        , 0.33333333, 0.        ],\n",
              "       [1.        , 0.33333333, 0.        ],\n",
              "       [1.        , 0.33333333, 0.        ],\n",
              "       [1.        , 0.33333333, 0.        ],\n",
              "       [1.        , 0.33333333, 0.        ],\n",
              "       [0.5       , 0.33333333, 0.        ],\n",
              "       [0.5       , 0.33333333, 0.        ],\n",
              "       [0.5       , 0.33333333, 0.        ],\n",
              "       [0.        , 0.33333333, 0.        ],\n",
              "       [0.        , 0.33333333, 0.        ],\n",
              "       [0.5       , 0.33333333, 0.        ],\n",
              "       [0.5       , 0.33333333, 0.        ],\n",
              "       [0.        , 0.33333333, 0.        ],\n",
              "       [0.        , 0.33333333, 0.        ],\n",
              "       [0.5       , 0.33333333, 0.        ],\n",
              "       [1.        , 0.33333333, 0.        ],\n",
              "       [1.        , 0.33333333, 0.        ],\n",
              "       [1.        , 0.        , 0.        ]])"
            ]
          },
          "metadata": {},
          "execution_count": 18
        }
      ]
    },
    {
      "cell_type": "code",
      "source": [
        "kmeans = KMeans(n_clusters=3, random_state=70)"
      ],
      "metadata": {
        "id": "RJmrlE9vaAUB"
      },
      "execution_count": 19,
      "outputs": []
    },
    {
      "cell_type": "code",
      "source": [
        "kmeans.fit(scaled_x)"
      ],
      "metadata": {
        "colab": {
          "base_uri": "https://localhost:8080/"
        },
        "id": "HFev8Ff8aC3B",
        "outputId": "dc4a97e2-80e9-4347-8d1e-586f5c13aa16"
      },
      "execution_count": 20,
      "outputs": [
        {
          "output_type": "execute_result",
          "data": {
            "text/plain": [
              "KMeans(n_clusters=3, random_state=70)"
            ]
          },
          "metadata": {},
          "execution_count": 20
        }
      ]
    },
    {
      "cell_type": "code",
      "source": [
        "print(kmeans.cluster_centers_)"
      ],
      "metadata": {
        "colab": {
          "base_uri": "https://localhost:8080/"
        },
        "id": "3gOg7MdGaE96",
        "outputId": "78dead18-52c6-44b4-dad4-54bfb5ce4500"
      },
      "execution_count": 21,
      "outputs": [
        {
          "output_type": "stream",
          "name": "stdout",
          "text": [
            "[[ 6.77777778e-01  3.07407407e-01  1.11111111e-02]\n",
            " [-4.44089210e-16  2.76729560e-01  6.60377358e-02]\n",
            " [ 4.89583333e-01  4.93055556e-01  5.62500000e-01]]\n"
          ]
        }
      ]
    },
    {
      "cell_type": "code",
      "source": [
        "dataset[\"kluster\"]= kmeans.labels_"
      ],
      "metadata": {
        "id": "NOEYlz2zaHJ5"
      },
      "execution_count": 22,
      "outputs": []
    },
    {
      "cell_type": "code",
      "source": [
        "print(kmeans.labels_)"
      ],
      "metadata": {
        "colab": {
          "base_uri": "https://localhost:8080/"
        },
        "id": "-LRZUa46aJxR",
        "outputId": "99f4cb5d-1e93-4626-b396-e79c89be3696"
      },
      "execution_count": 23,
      "outputs": [
        {
          "output_type": "stream",
          "name": "stdout",
          "text": [
            "[2 2 0 2 0 0 0 1 1 1 1 1 2 2 2 2 2 2 1 1 1 0 2 1 1 1 0 0 1 1 1 0 0 1 0 0 0\n",
            " 0 1 2 2 0 0 0 0 1 2 2 0 1 2 0 0 1 1 0 1 1 1 1 1 0 2 0 1 1 2 1 0 2 1 1 1 0\n",
            " 0 0 1 0 0 0 1 2 1 2 0 0 2 2 1 1 0 0 1 2 0 2 0 0 2 0 0 1 1 0 1 0 2 2 2 1 1\n",
            " 1 1 1 2 1 1 0 0 0 1 1 1 1 2 1 0 0 1 2 1 1 1 1 0 1 0 1 2 1 0 1 1 1 0 1 2 2\n",
            " 1 2 2 1 1 0 1 0 0 0 1 1 0 1 1 1 1 1 0 1 1 1 1 1 0 0 2 1 1 1 1 1 0 0 0 1 0\n",
            " 2 0 2 2 0 2 1 2 2 2 1 1 1 2 1 2 1 0 0 2 1 1 0 1 1 2 0 1 1 1 0 1 0 0 1 1 0\n",
            " 0 0 0 0 0 0 0 0 0 0 0 0 1 1 0 0 1 1 0 0 0 0]\n"
          ]
        }
      ]
    },
    {
      "cell_type": "code",
      "source": [
        "print(dataset.kluster)"
      ],
      "metadata": {
        "colab": {
          "base_uri": "https://localhost:8080/"
        },
        "id": "qsKe4Z1FaNxR",
        "outputId": "57842272-8ae7-4953-cfa2-f6ce8dd50b28"
      },
      "execution_count": 24,
      "outputs": [
        {
          "output_type": "stream",
          "name": "stdout",
          "text": [
            "0      2\n",
            "1      2\n",
            "2      0\n",
            "3      2\n",
            "4      0\n",
            "      ..\n",
            "239    1\n",
            "240    0\n",
            "241    0\n",
            "242    0\n",
            "243    0\n",
            "Name: kluster, Length: 244, dtype: int32\n"
          ]
        }
      ]
    },
    {
      "cell_type": "code",
      "source": [
        "print(dataset)"
      ],
      "metadata": {
        "colab": {
          "base_uri": "https://localhost:8080/"
        },
        "id": "gtTAU5fjaQbk",
        "outputId": "4aa87fda-d811-486f-9953-cfbb1f2e69d7"
      },
      "execution_count": 25,
      "outputs": [
        {
          "output_type": "stream",
          "name": "stdout",
          "text": [
            "     _id                               Lokasi      Kecamatan      Kelurahan  \\\n",
            "0      1           Jl. Pakis Agosari (Yamaha)    Dukuh Pakis    Dukuh Pakis   \n",
            "1      2  Jl. Mayjend Sungkono - Darmo Park I    Dukuh Pakis    Dukuh Pakis   \n",
            "2      3    Jl. Mayjend Sungkono (Pom Bensin)    Dukuh Pakis    Dukuh Pakis   \n",
            "3      4                          Kp. Kebraon   Karangpilang     Warugunung   \n",
            "4      5              Jl. Lakar Santri RW.001    Lakarsantri     Bangkingan   \n",
            "..   ...                                  ...            ...            ...   \n",
            "239  240                            Jl. Kanwa      WONOKROMO          DARMO   \n",
            "240  241                 Per. Rungkut Harapan        Rungkut  Rungkut Kidul   \n",
            "241  242                        TANJUNGSARI I  SUKOMANUNGGAL    TANJUNGSARI   \n",
            "242  243                       Jl. Karangrejo      Wonokromo      Wonokromo   \n",
            "243  244                       Kp. Tambakdono         Benowo     Tambakdono   \n",
            "\n",
            "               Rayon  Luas genangan  Tinggi genangan  Lama genangan  \\\n",
            "0       Rayon Wiyung      10.800000               10             40   \n",
            "1       Rayon Wiyung       0.816236               25             58   \n",
            "2       Rayon Wiyung       0.509047               15             16   \n",
            "3       Rayon Wiyung       0.785111               10             40   \n",
            "4       Rayon Wiyung       0.749717               30             16   \n",
            "..               ...            ...              ...            ...   \n",
            "239    Rayon Genteng       0.334177                9              3   \n",
            "240  Rayon Jambangan       0.851371                9              3   \n",
            "241     Rayon Tandes      19.980000                9             15   \n",
            "242  Rayon Jambangan      15.830000                9             20   \n",
            "243     Rayon Tandes      16.410000                4             15   \n",
            "\n",
            "     Skor Luas Genangan  Skor Tinggi Genangan  Skor Lama Genangan  kluster  \n",
            "0                   100                    25                  25        2  \n",
            "1                    75                    50                  25        2  \n",
            "2                    75                    50                   0        0  \n",
            "3                    75                    25                  25        2  \n",
            "4                    75                    50                   0        0  \n",
            "..                  ...                   ...                 ...      ...  \n",
            "239                  50                    25                   0        1  \n",
            "240                  75                    25                   0        0  \n",
            "241                 100                    25                   0        0  \n",
            "242                 100                    25                   0        0  \n",
            "243                 100                     0                   0        0  \n",
            "\n",
            "[244 rows x 12 columns]\n"
          ]
        }
      ]
    },
    {
      "cell_type": "code",
      "source": [
        "x = dataset.iloc[:,8:11] # 1t for rows and second for columns\n",
        "x"
      ],
      "metadata": {
        "colab": {
          "base_uri": "https://localhost:8080/",
          "height": 424
        },
        "id": "rzrDd0MxaVbi",
        "outputId": "f8a411be-2346-49a9-a5a4-c5530f947e1e"
      },
      "execution_count": 26,
      "outputs": [
        {
          "output_type": "execute_result",
          "data": {
            "text/plain": [
              "     Skor Luas Genangan  Skor Tinggi Genangan  Skor Lama Genangan\n",
              "0                   100                    25                  25\n",
              "1                    75                    50                  25\n",
              "2                    75                    50                   0\n",
              "3                    75                    25                  25\n",
              "4                    75                    50                   0\n",
              "..                  ...                   ...                 ...\n",
              "239                  50                    25                   0\n",
              "240                  75                    25                   0\n",
              "241                 100                    25                   0\n",
              "242                 100                    25                   0\n",
              "243                 100                     0                   0\n",
              "\n",
              "[244 rows x 3 columns]"
            ],
            "text/html": [
              "\n",
              "  <div id=\"df-36a47a8d-9537-4e0d-bcb0-2734d1a8e8e3\">\n",
              "    <div class=\"colab-df-container\">\n",
              "      <div>\n",
              "<style scoped>\n",
              "    .dataframe tbody tr th:only-of-type {\n",
              "        vertical-align: middle;\n",
              "    }\n",
              "\n",
              "    .dataframe tbody tr th {\n",
              "        vertical-align: top;\n",
              "    }\n",
              "\n",
              "    .dataframe thead th {\n",
              "        text-align: right;\n",
              "    }\n",
              "</style>\n",
              "<table border=\"1\" class=\"dataframe\">\n",
              "  <thead>\n",
              "    <tr style=\"text-align: right;\">\n",
              "      <th></th>\n",
              "      <th>Skor Luas Genangan</th>\n",
              "      <th>Skor Tinggi Genangan</th>\n",
              "      <th>Skor Lama Genangan</th>\n",
              "    </tr>\n",
              "  </thead>\n",
              "  <tbody>\n",
              "    <tr>\n",
              "      <th>0</th>\n",
              "      <td>100</td>\n",
              "      <td>25</td>\n",
              "      <td>25</td>\n",
              "    </tr>\n",
              "    <tr>\n",
              "      <th>1</th>\n",
              "      <td>75</td>\n",
              "      <td>50</td>\n",
              "      <td>25</td>\n",
              "    </tr>\n",
              "    <tr>\n",
              "      <th>2</th>\n",
              "      <td>75</td>\n",
              "      <td>50</td>\n",
              "      <td>0</td>\n",
              "    </tr>\n",
              "    <tr>\n",
              "      <th>3</th>\n",
              "      <td>75</td>\n",
              "      <td>25</td>\n",
              "      <td>25</td>\n",
              "    </tr>\n",
              "    <tr>\n",
              "      <th>4</th>\n",
              "      <td>75</td>\n",
              "      <td>50</td>\n",
              "      <td>0</td>\n",
              "    </tr>\n",
              "    <tr>\n",
              "      <th>...</th>\n",
              "      <td>...</td>\n",
              "      <td>...</td>\n",
              "      <td>...</td>\n",
              "    </tr>\n",
              "    <tr>\n",
              "      <th>239</th>\n",
              "      <td>50</td>\n",
              "      <td>25</td>\n",
              "      <td>0</td>\n",
              "    </tr>\n",
              "    <tr>\n",
              "      <th>240</th>\n",
              "      <td>75</td>\n",
              "      <td>25</td>\n",
              "      <td>0</td>\n",
              "    </tr>\n",
              "    <tr>\n",
              "      <th>241</th>\n",
              "      <td>100</td>\n",
              "      <td>25</td>\n",
              "      <td>0</td>\n",
              "    </tr>\n",
              "    <tr>\n",
              "      <th>242</th>\n",
              "      <td>100</td>\n",
              "      <td>25</td>\n",
              "      <td>0</td>\n",
              "    </tr>\n",
              "    <tr>\n",
              "      <th>243</th>\n",
              "      <td>100</td>\n",
              "      <td>0</td>\n",
              "      <td>0</td>\n",
              "    </tr>\n",
              "  </tbody>\n",
              "</table>\n",
              "<p>244 rows × 3 columns</p>\n",
              "</div>\n",
              "      <button class=\"colab-df-convert\" onclick=\"convertToInteractive('df-36a47a8d-9537-4e0d-bcb0-2734d1a8e8e3')\"\n",
              "              title=\"Convert this dataframe to an interactive table.\"\n",
              "              style=\"display:none;\">\n",
              "        \n",
              "  <svg xmlns=\"http://www.w3.org/2000/svg\" height=\"24px\"viewBox=\"0 0 24 24\"\n",
              "       width=\"24px\">\n",
              "    <path d=\"M0 0h24v24H0V0z\" fill=\"none\"/>\n",
              "    <path d=\"M18.56 5.44l.94 2.06.94-2.06 2.06-.94-2.06-.94-.94-2.06-.94 2.06-2.06.94zm-11 1L8.5 8.5l.94-2.06 2.06-.94-2.06-.94L8.5 2.5l-.94 2.06-2.06.94zm10 10l.94 2.06.94-2.06 2.06-.94-2.06-.94-.94-2.06-.94 2.06-2.06.94z\"/><path d=\"M17.41 7.96l-1.37-1.37c-.4-.4-.92-.59-1.43-.59-.52 0-1.04.2-1.43.59L10.3 9.45l-7.72 7.72c-.78.78-.78 2.05 0 2.83L4 21.41c.39.39.9.59 1.41.59.51 0 1.02-.2 1.41-.59l7.78-7.78 2.81-2.81c.8-.78.8-2.07 0-2.86zM5.41 20L4 18.59l7.72-7.72 1.47 1.35L5.41 20z\"/>\n",
              "  </svg>\n",
              "      </button>\n",
              "      \n",
              "  <style>\n",
              "    .colab-df-container {\n",
              "      display:flex;\n",
              "      flex-wrap:wrap;\n",
              "      gap: 12px;\n",
              "    }\n",
              "\n",
              "    .colab-df-convert {\n",
              "      background-color: #E8F0FE;\n",
              "      border: none;\n",
              "      border-radius: 50%;\n",
              "      cursor: pointer;\n",
              "      display: none;\n",
              "      fill: #1967D2;\n",
              "      height: 32px;\n",
              "      padding: 0 0 0 0;\n",
              "      width: 32px;\n",
              "    }\n",
              "\n",
              "    .colab-df-convert:hover {\n",
              "      background-color: #E2EBFA;\n",
              "      box-shadow: 0px 1px 2px rgba(60, 64, 67, 0.3), 0px 1px 3px 1px rgba(60, 64, 67, 0.15);\n",
              "      fill: #174EA6;\n",
              "    }\n",
              "\n",
              "    [theme=dark] .colab-df-convert {\n",
              "      background-color: #3B4455;\n",
              "      fill: #D2E3FC;\n",
              "    }\n",
              "\n",
              "    [theme=dark] .colab-df-convert:hover {\n",
              "      background-color: #434B5C;\n",
              "      box-shadow: 0px 1px 3px 1px rgba(0, 0, 0, 0.15);\n",
              "      filter: drop-shadow(0px 1px 2px rgba(0, 0, 0, 0.3));\n",
              "      fill: #FFFFFF;\n",
              "    }\n",
              "  </style>\n",
              "\n",
              "      <script>\n",
              "        const buttonEl =\n",
              "          document.querySelector('#df-36a47a8d-9537-4e0d-bcb0-2734d1a8e8e3 button.colab-df-convert');\n",
              "        buttonEl.style.display =\n",
              "          google.colab.kernel.accessAllowed ? 'block' : 'none';\n",
              "\n",
              "        async function convertToInteractive(key) {\n",
              "          const element = document.querySelector('#df-36a47a8d-9537-4e0d-bcb0-2734d1a8e8e3');\n",
              "          const dataTable =\n",
              "            await google.colab.kernel.invokeFunction('convertToInteractive',\n",
              "                                                     [key], {});\n",
              "          if (!dataTable) return;\n",
              "\n",
              "          const docLinkHtml = 'Like what you see? Visit the ' +\n",
              "            '<a target=\"_blank\" href=https://colab.research.google.com/notebooks/data_table.ipynb>data table notebook</a>'\n",
              "            + ' to learn more about interactive tables.';\n",
              "          element.innerHTML = '';\n",
              "          dataTable['output_type'] = 'display_data';\n",
              "          await google.colab.output.renderOutput(dataTable, element);\n",
              "          const docLink = document.createElement('div');\n",
              "          docLink.innerHTML = docLinkHtml;\n",
              "          element.appendChild(docLink);\n",
              "        }\n",
              "      </script>\n",
              "    </div>\n",
              "  </div>\n",
              "  "
            ]
          },
          "metadata": {},
          "execution_count": 26
        }
      ]
    },
    {
      "cell_type": "code",
      "source": [
        "kmeans = KMeans(3)\n",
        "kmeans.fit(x)"
      ],
      "metadata": {
        "colab": {
          "base_uri": "https://localhost:8080/"
        },
        "id": "sTG2avOlaXwJ",
        "outputId": "ae793089-36b1-4151-bc8d-a6f0c1c0936c"
      },
      "execution_count": 27,
      "outputs": [
        {
          "output_type": "execute_result",
          "data": {
            "text/plain": [
              "KMeans(n_clusters=3)"
            ]
          },
          "metadata": {},
          "execution_count": 27
        }
      ]
    },
    {
      "cell_type": "code",
      "source": [
        "identified_clusters = kmeans.fit_predict(x)\n",
        "identified_clusters"
      ],
      "metadata": {
        "colab": {
          "base_uri": "https://localhost:8080/"
        },
        "id": "8DMUm-1Kaarc",
        "outputId": "f954b5a2-a9c4-42ba-caab-636fa0bc2608"
      },
      "execution_count": 28,
      "outputs": [
        {
          "output_type": "execute_result",
          "data": {
            "text/plain": [
              "array([2, 1, 1, 2, 1, 2, 2, 0, 0, 1, 1, 1, 1, 2, 1, 1, 1, 2, 0, 0, 1, 1,\n",
              "       1, 1, 1, 1, 2, 2, 0, 0, 0, 1, 1, 0, 2, 2, 2, 1, 0, 2, 1, 2, 2, 1,\n",
              "       1, 1, 1, 1, 1, 0, 1, 2, 2, 0, 0, 2, 1, 1, 0, 0, 0, 2, 2, 2, 0, 0,\n",
              "       1, 0, 1, 2, 1, 0, 0, 1, 2, 1, 1, 1, 2, 2, 0, 1, 0, 2, 2, 2, 2, 1,\n",
              "       0, 0, 2, 2, 0, 2, 2, 2, 2, 2, 2, 2, 2, 0, 0, 2, 0, 2, 2, 2, 2, 0,\n",
              "       0, 0, 0, 0, 1, 0, 0, 2, 1, 1, 0, 0, 0, 0, 1, 0, 2, 2, 0, 1, 0, 0,\n",
              "       0, 0, 2, 0, 2, 0, 2, 0, 2, 0, 0, 0, 2, 0, 2, 2, 0, 1, 2, 0, 0, 2,\n",
              "       0, 2, 2, 2, 0, 0, 2, 0, 0, 0, 0, 0, 1, 0, 0, 0, 0, 0, 2, 2, 1, 1,\n",
              "       0, 0, 0, 0, 2, 2, 2, 0, 1, 2, 2, 2, 1, 2, 1, 1, 1, 1, 1, 0, 0, 1,\n",
              "       1, 0, 1, 0, 2, 2, 2, 0, 0, 2, 0, 0, 1, 2, 1, 1, 0, 1, 0, 2, 2, 0,\n",
              "       0, 2, 2, 2, 2, 2, 2, 2, 2, 2, 2, 2, 2, 2, 0, 0, 2, 2, 0, 0, 2, 2,\n",
              "       2, 2], dtype=int32)"
            ]
          },
          "metadata": {},
          "execution_count": 28
        }
      ]
    },
    {
      "cell_type": "code",
      "source": [
        "scaler_fit = StandardScaler()\n",
        "scaled_x = scaler_fit.fit_transform(array_x)\n",
        "scaled_x"
      ],
      "metadata": {
        "colab": {
          "base_uri": "https://localhost:8080/"
        },
        "id": "KsM9VmrIadnB",
        "outputId": "2384fc89-9829-4315-da5f-d18ad8bcc126"
      },
      "execution_count": 29,
      "outputs": [
        {
          "output_type": "execute_result",
          "data": {
            "text/plain": [
              "array([[ 1.77785554,  0.01131769,  1.41561697],\n",
              "       [ 0.41799111,  1.39207624,  1.41561697],\n",
              "       [ 0.41799111,  1.39207624, -0.56950108],\n",
              "       [ 0.41799111,  0.01131769,  1.41561697],\n",
              "       [ 0.41799111,  1.39207624, -0.56950108],\n",
              "       [ 0.41799111, -1.36944086, -0.56950108],\n",
              "       [ 1.77785554,  0.01131769, -0.56950108],\n",
              "       [-0.94187331,  0.01131769, -0.56950108],\n",
              "       [-0.94187331, -1.36944086, -0.56950108],\n",
              "       [-0.94187331,  1.39207624, -0.56950108],\n",
              "       [-0.94187331,  1.39207624, -0.56950108],\n",
              "       [-0.94187331,  1.39207624, -0.56950108],\n",
              "       [-0.94187331,  1.39207624,  1.41561697],\n",
              "       [ 0.41799111,  0.01131769,  1.41561697],\n",
              "       [ 0.41799111,  2.77283479,  3.40073502],\n",
              "       [ 0.41799111,  1.39207624,  1.41561697],\n",
              "       [-0.94187331,  1.39207624,  1.41561697],\n",
              "       [ 1.77785554,  0.01131769,  1.41561697],\n",
              "       [-0.94187331,  0.01131769, -0.56950108],\n",
              "       [-0.94187331,  0.01131769,  1.41561697],\n",
              "       [-0.94187331,  1.39207624, -0.56950108],\n",
              "       [ 1.77785554,  1.39207624, -0.56950108],\n",
              "       [-0.94187331,  1.39207624,  1.41561697],\n",
              "       [-0.94187331,  1.39207624, -0.56950108],\n",
              "       [-0.94187331,  1.39207624, -0.56950108],\n",
              "       [-0.94187331,  1.39207624, -0.56950108],\n",
              "       [ 0.41799111, -1.36944086, -0.56950108],\n",
              "       [ 0.41799111, -1.36944086, -0.56950108],\n",
              "       [-0.94187331,  0.01131769, -0.56950108],\n",
              "       [-0.94187331,  0.01131769, -0.56950108],\n",
              "       [-0.94187331,  0.01131769, -0.56950108],\n",
              "       [ 1.77785554,  1.39207624, -0.56950108],\n",
              "       [ 0.41799111,  1.39207624, -0.56950108],\n",
              "       [-0.94187331, -1.36944086, -0.56950108],\n",
              "       [ 0.41799111,  0.01131769, -0.56950108],\n",
              "       [ 0.41799111,  0.01131769, -0.56950108],\n",
              "       [ 1.77785554, -1.36944086, -0.56950108],\n",
              "       [ 0.41799111,  1.39207624, -0.56950108],\n",
              "       [-0.94187331,  0.01131769,  1.41561697],\n",
              "       [ 1.77785554,  0.01131769,  1.41561697],\n",
              "       [ 0.41799111,  1.39207624,  1.41561697],\n",
              "       [ 0.41799111,  0.01131769, -0.56950108],\n",
              "       [ 1.77785554,  0.01131769, -0.56950108],\n",
              "       [ 0.41799111,  1.39207624, -0.56950108],\n",
              "       [ 0.41799111,  1.39207624, -0.56950108],\n",
              "       [-0.94187331,  1.39207624, -0.56950108],\n",
              "       [-0.94187331,  1.39207624,  1.41561697],\n",
              "       [ 0.41799111,  1.39207624,  1.41561697],\n",
              "       [ 0.41799111,  1.39207624, -0.56950108],\n",
              "       [-0.94187331, -1.36944086, -0.56950108],\n",
              "       [ 1.77785554,  1.39207624,  1.41561697],\n",
              "       [ 0.41799111, -1.36944086, -0.56950108],\n",
              "       [ 1.77785554,  0.01131769, -0.56950108],\n",
              "       [-0.94187331,  0.01131769, -0.56950108],\n",
              "       [-0.94187331,  0.01131769, -0.56950108],\n",
              "       [ 0.41799111,  0.01131769, -0.56950108],\n",
              "       [-0.94187331,  1.39207624, -0.56950108],\n",
              "       [-0.94187331,  1.39207624, -0.56950108],\n",
              "       [-0.94187331,  0.01131769, -0.56950108],\n",
              "       [-0.94187331,  0.01131769, -0.56950108],\n",
              "       [-0.94187331,  0.01131769, -0.56950108],\n",
              "       [ 0.41799111,  0.01131769, -0.56950108],\n",
              "       [ 0.41799111,  0.01131769,  1.41561697],\n",
              "       [ 0.41799111,  0.01131769, -0.56950108],\n",
              "       [-0.94187331,  0.01131769,  1.41561697],\n",
              "       [-0.94187331, -1.36944086, -0.56950108],\n",
              "       [ 0.41799111,  1.39207624,  1.41561697],\n",
              "       [-0.94187331,  0.01131769, -0.56950108],\n",
              "       [ 1.77785554,  1.39207624, -0.56950108],\n",
              "       [ 1.77785554,  0.01131769,  3.40073502],\n",
              "       [-0.94187331,  1.39207624, -0.56950108],\n",
              "       [-0.94187331,  0.01131769, -0.56950108],\n",
              "       [-0.94187331,  0.01131769, -0.56950108],\n",
              "       [ 1.77785554,  1.39207624, -0.56950108],\n",
              "       [ 0.41799111,  0.01131769, -0.56950108],\n",
              "       [ 0.41799111,  1.39207624, -0.56950108],\n",
              "       [-0.94187331,  1.39207624, -0.56950108],\n",
              "       [ 1.77785554,  1.39207624, -0.56950108],\n",
              "       [ 1.77785554, -1.36944086, -0.56950108],\n",
              "       [ 1.77785554,  0.01131769, -0.56950108],\n",
              "       [-0.94187331, -1.36944086, -0.56950108],\n",
              "       [-0.94187331,  1.39207624,  1.41561697],\n",
              "       [-0.94187331,  0.01131769,  1.41561697],\n",
              "       [ 0.41799111, -1.36944086,  1.41561697],\n",
              "       [ 1.77785554, -1.36944086, -0.56950108],\n",
              "       [ 1.77785554, -1.36944086, -0.56950108],\n",
              "       [ 0.41799111,  0.01131769,  1.41561697],\n",
              "       [ 0.41799111,  1.39207624,  1.41561697],\n",
              "       [-0.94187331,  0.01131769, -0.56950108],\n",
              "       [-0.94187331, -1.36944086,  1.41561697],\n",
              "       [ 0.41799111, -1.36944086, -0.56950108],\n",
              "       [ 0.41799111, -1.36944086, -0.56950108],\n",
              "       [-0.94187331, -1.36944086, -0.56950108],\n",
              "       [ 0.41799111,  0.01131769,  1.41561697],\n",
              "       [ 0.41799111, -1.36944086, -0.56950108],\n",
              "       [ 1.77785554,  0.01131769,  1.41561697],\n",
              "       [ 1.77785554,  0.01131769, -0.56950108],\n",
              "       [ 0.41799111,  0.01131769, -0.56950108],\n",
              "       [ 0.41799111,  0.01131769,  1.41561697],\n",
              "       [ 1.77785554, -1.36944086,  1.41561697],\n",
              "       [ 1.77785554, -1.36944086, -0.56950108],\n",
              "       [-0.94187331, -1.36944086, -0.56950108],\n",
              "       [-0.94187331,  0.01131769, -0.56950108],\n",
              "       [ 1.77785554, -1.36944086, -0.56950108],\n",
              "       [-0.94187331, -1.36944086, -0.56950108],\n",
              "       [ 1.77785554, -1.36944086,  1.41561697],\n",
              "       [ 0.41799111,  0.01131769,  1.41561697],\n",
              "       [ 0.41799111,  0.01131769,  1.41561697],\n",
              "       [ 0.41799111,  0.01131769,  1.41561697],\n",
              "       [-0.94187331,  0.01131769,  1.41561697],\n",
              "       [-0.94187331,  0.01131769, -0.56950108],\n",
              "       [-0.94187331, -1.36944086, -0.56950108],\n",
              "       [-0.94187331, -1.36944086, -0.56950108],\n",
              "       [-0.94187331,  0.01131769,  1.41561697],\n",
              "       [ 0.41799111,  1.39207624,  1.41561697],\n",
              "       [-0.94187331, -1.36944086, -0.56950108],\n",
              "       [-0.94187331, -1.36944086, -0.56950108],\n",
              "       [ 1.77785554,  0.01131769, -0.56950108],\n",
              "       [ 1.77785554,  1.39207624, -0.56950108],\n",
              "       [ 0.41799111,  1.39207624, -0.56950108],\n",
              "       [-0.94187331,  0.01131769, -0.56950108],\n",
              "       [-0.94187331, -1.36944086, -0.56950108],\n",
              "       [-0.94187331,  0.01131769, -0.56950108],\n",
              "       [-0.94187331, -1.36944086, -0.56950108],\n",
              "       [ 0.41799111,  1.39207624,  3.40073502],\n",
              "       [-0.94187331,  0.01131769,  1.41561697],\n",
              "       [ 0.41799111, -1.36944086, -0.56950108],\n",
              "       [ 0.41799111,  0.01131769, -0.56950108],\n",
              "       [-0.94187331,  0.01131769,  1.41561697],\n",
              "       [ 0.41799111,  1.39207624,  1.41561697],\n",
              "       [-0.94187331,  0.01131769, -0.56950108],\n",
              "       [-0.94187331,  0.01131769, -0.56950108],\n",
              "       [-0.94187331, -1.36944086, -0.56950108],\n",
              "       [-0.94187331,  0.01131769, -0.56950108],\n",
              "       [ 0.41799111,  0.01131769, -0.56950108],\n",
              "       [-0.94187331, -1.36944086, -0.56950108],\n",
              "       [ 1.77785554, -1.36944086, -0.56950108],\n",
              "       [-0.94187331, -1.36944086, -0.56950108],\n",
              "       [ 1.77785554,  0.01131769,  3.40073502],\n",
              "       [-0.94187331, -1.36944086, -0.56950108],\n",
              "       [ 0.41799111,  0.01131769, -0.56950108],\n",
              "       [-0.94187331, -1.36944086, -0.56950108],\n",
              "       [-0.94187331, -1.36944086, -0.56950108],\n",
              "       [-0.94187331,  0.01131769, -0.56950108],\n",
              "       [ 0.41799111,  0.01131769, -0.56950108],\n",
              "       [-0.94187331, -1.36944086, -0.56950108],\n",
              "       [ 0.41799111, -1.36944086,  1.41561697],\n",
              "       [ 0.41799111, -1.36944086,  3.40073502],\n",
              "       [-0.94187331,  0.01131769, -0.56950108],\n",
              "       [-0.94187331,  1.39207624,  1.41561697],\n",
              "       [ 0.41799111,  0.01131769,  3.40073502],\n",
              "       [-0.94187331, -1.36944086,  1.41561697],\n",
              "       [-0.94187331,  0.01131769,  1.41561697],\n",
              "       [ 0.41799111,  0.01131769, -0.56950108],\n",
              "       [-0.94187331,  0.01131769, -0.56950108],\n",
              "       [ 0.41799111, -1.36944086, -0.56950108],\n",
              "       [ 0.41799111,  0.01131769, -0.56950108],\n",
              "       [ 1.77785554,  0.01131769, -0.56950108],\n",
              "       [-0.94187331,  0.01131769, -0.56950108],\n",
              "       [-0.94187331, -1.36944086, -0.56950108],\n",
              "       [ 0.41799111, -1.36944086, -0.56950108],\n",
              "       [-0.94187331, -1.36944086, -0.56950108],\n",
              "       [-0.94187331, -1.36944086, -0.56950108],\n",
              "       [-0.94187331,  0.01131769, -0.56950108],\n",
              "       [-0.94187331,  0.01131769, -0.56950108],\n",
              "       [-0.94187331, -1.36944086, -0.56950108],\n",
              "       [ 0.41799111,  1.39207624, -0.56950108],\n",
              "       [-0.94187331,  0.01131769, -0.56950108],\n",
              "       [-0.94187331, -1.36944086, -0.56950108],\n",
              "       [-0.94187331, -1.36944086, -0.56950108],\n",
              "       [-0.94187331,  0.01131769, -0.56950108],\n",
              "       [-0.94187331, -1.36944086, -0.56950108],\n",
              "       [ 0.41799111, -1.36944086, -0.56950108],\n",
              "       [ 0.41799111, -1.36944086, -0.56950108],\n",
              "       [-0.94187331,  1.39207624,  1.41561697],\n",
              "       [-0.94187331,  1.39207624, -0.56950108],\n",
              "       [-0.94187331, -1.36944086, -0.56950108],\n",
              "       [-0.94187331,  0.01131769, -0.56950108],\n",
              "       [-0.94187331,  0.01131769, -0.56950108],\n",
              "       [-0.94187331,  0.01131769, -0.56950108],\n",
              "       [ 1.77785554,  0.01131769, -0.56950108],\n",
              "       [ 0.41799111, -1.36944086, -0.56950108],\n",
              "       [ 0.41799111, -1.36944086, -0.56950108],\n",
              "       [-0.94187331, -1.36944086, -0.56950108],\n",
              "       [ 0.41799111,  1.39207624, -0.56950108],\n",
              "       [ 0.41799111, -1.36944086,  1.41561697],\n",
              "       [ 0.41799111,  0.01131769, -0.56950108],\n",
              "       [ 0.41799111,  0.01131769,  1.41561697],\n",
              "       [-0.94187331,  1.39207624,  1.41561697],\n",
              "       [ 1.77785554,  0.01131769, -0.56950108],\n",
              "       [-0.94187331,  1.39207624,  1.41561697],\n",
              "       [-0.94187331,  1.39207624, -0.56950108],\n",
              "       [ 0.41799111,  1.39207624,  1.41561697],\n",
              "       [ 0.41799111,  1.39207624,  1.41561697],\n",
              "       [ 0.41799111,  1.39207624,  1.41561697],\n",
              "       [-0.94187331, -1.36944086,  1.41561697],\n",
              "       [-0.94187331,  0.01131769,  1.41561697],\n",
              "       [-0.94187331,  1.39207624, -0.56950108],\n",
              "       [ 1.77785554,  1.39207624,  1.41561697],\n",
              "       [-0.94187331, -1.36944086, -0.56950108],\n",
              "       [ 0.41799111,  1.39207624,  1.41561697],\n",
              "       [-0.94187331,  0.01131769, -0.56950108],\n",
              "       [ 0.41799111, -1.36944086, -0.56950108],\n",
              "       [ 0.41799111,  0.01131769, -0.56950108],\n",
              "       [ 0.41799111,  0.01131769,  1.41561697],\n",
              "       [-0.94187331,  0.01131769, -0.56950108],\n",
              "       [-0.94187331,  0.01131769, -0.56950108],\n",
              "       [ 0.41799111,  0.01131769, -0.56950108],\n",
              "       [-0.94187331,  0.01131769, -0.56950108],\n",
              "       [-0.94187331,  0.01131769,  1.41561697],\n",
              "       [ 0.41799111,  1.39207624,  1.41561697],\n",
              "       [ 0.41799111,  0.01131769, -0.56950108],\n",
              "       [-0.94187331,  1.39207624, -0.56950108],\n",
              "       [-0.94187331,  1.39207624, -0.56950108],\n",
              "       [-0.94187331, -1.36944086, -0.56950108],\n",
              "       [ 0.41799111,  1.39207624, -0.56950108],\n",
              "       [-0.94187331,  0.01131769, -0.56950108],\n",
              "       [ 0.41799111,  0.01131769, -0.56950108],\n",
              "       [ 0.41799111,  0.01131769, -0.56950108],\n",
              "       [-0.94187331,  0.01131769, -0.56950108],\n",
              "       [-0.94187331,  0.01131769, -0.56950108],\n",
              "       [ 0.41799111,  0.01131769, -0.56950108],\n",
              "       [ 0.41799111,  0.01131769, -0.56950108],\n",
              "       [ 0.41799111,  0.01131769, -0.56950108],\n",
              "       [ 0.41799111,  0.01131769, -0.56950108],\n",
              "       [ 0.41799111,  0.01131769, -0.56950108],\n",
              "       [ 1.77785554,  0.01131769, -0.56950108],\n",
              "       [ 1.77785554,  0.01131769, -0.56950108],\n",
              "       [ 1.77785554,  0.01131769, -0.56950108],\n",
              "       [ 1.77785554,  0.01131769, -0.56950108],\n",
              "       [ 1.77785554,  0.01131769, -0.56950108],\n",
              "       [ 0.41799111,  0.01131769, -0.56950108],\n",
              "       [ 0.41799111,  0.01131769, -0.56950108],\n",
              "       [ 0.41799111,  0.01131769, -0.56950108],\n",
              "       [-0.94187331,  0.01131769, -0.56950108],\n",
              "       [-0.94187331,  0.01131769, -0.56950108],\n",
              "       [ 0.41799111,  0.01131769, -0.56950108],\n",
              "       [ 0.41799111,  0.01131769, -0.56950108],\n",
              "       [-0.94187331,  0.01131769, -0.56950108],\n",
              "       [-0.94187331,  0.01131769, -0.56950108],\n",
              "       [ 0.41799111,  0.01131769, -0.56950108],\n",
              "       [ 1.77785554,  0.01131769, -0.56950108],\n",
              "       [ 1.77785554,  0.01131769, -0.56950108],\n",
              "       [ 1.77785554, -1.36944086, -0.56950108]])"
            ]
          },
          "metadata": {},
          "execution_count": 29
        }
      ]
    },
    {
      "cell_type": "code",
      "source": [
        "km = KMeans(n_clusters=3)\n",
        "km\n",
        "\n",
        "y_predicted = km.fit_predict(dataset[['Skor Luas Genangan','Skor Tinggi Genangan','Skor Lama Genangan']])\n",
        "y_predicted\n",
        "\n",
        "dataset['Kelas'] = y_predicted"
      ],
      "metadata": {
        "id": "PQevjGbJaqDV"
      },
      "execution_count": 59,
      "outputs": []
    },
    {
      "cell_type": "code",
      "source": [
        "conditions = [\n",
        "    (dataset['Kelas']==0),\n",
        "    (dataset['Kelas']==1),\n",
        "    (dataset['Kelas']==2)]\n",
        "choices = ['Tinggi','Sedang','Rendah']\n",
        "dataset['Kelas'] = np.select(conditions, choices)"
      ],
      "metadata": {
        "id": "N6Ky3jZMatlJ"
      },
      "execution_count": 60,
      "outputs": []
    },
    {
      "cell_type": "code",
      "source": [
        "sum(dataset['Kelas']=='Tinggi')"
      ],
      "metadata": {
        "colab": {
          "base_uri": "https://localhost:8080/"
        },
        "id": "cue9NhBgayRh",
        "outputId": "e80023f3-9bf2-47c8-a56d-043e1649e28b"
      },
      "execution_count": 61,
      "outputs": [
        {
          "output_type": "execute_result",
          "data": {
            "text/plain": [
              "53"
            ]
          },
          "metadata": {},
          "execution_count": 61
        }
      ]
    },
    {
      "cell_type": "code",
      "source": [
        "sum(dataset['Kelas']=='Sedang')"
      ],
      "metadata": {
        "colab": {
          "base_uri": "https://localhost:8080/"
        },
        "id": "SbJSNafObggY",
        "outputId": "63d3f819-2d5e-4fa7-b9ef-56008ddf1ca4"
      },
      "execution_count": 63,
      "outputs": [
        {
          "output_type": "execute_result",
          "data": {
            "text/plain": [
              "102"
            ]
          },
          "metadata": {},
          "execution_count": 63
        }
      ]
    },
    {
      "cell_type": "code",
      "source": [
        "sum(dataset['Kelas']=='Rendah')"
      ],
      "metadata": {
        "colab": {
          "base_uri": "https://localhost:8080/"
        },
        "id": "F3ltzS1pbjeQ",
        "outputId": "9ca786ff-7c95-4a6f-898a-316ecea3e793"
      },
      "execution_count": 64,
      "outputs": [
        {
          "output_type": "execute_result",
          "data": {
            "text/plain": [
              "89"
            ]
          },
          "metadata": {},
          "execution_count": 64
        }
      ]
    },
    {
      "cell_type": "code",
      "source": [
        "print(dataset.Rayon[dataset['Kelas']=='Tinggi'])"
      ],
      "metadata": {
        "colab": {
          "base_uri": "https://localhost:8080/"
        },
        "id": "Wdl7SIt3bHzZ",
        "outputId": "47777f61-0abb-48ff-afe0-f6d1c5cf3927"
      },
      "execution_count": 62,
      "outputs": [
        {
          "output_type": "stream",
          "name": "stdout",
          "text": [
            "1         Rayon Wiyung\n",
            "2         Rayon Wiyung\n",
            "4         Rayon Wiyung\n",
            "9         Rayon Tandes\n",
            "10        Rayon Wiyung\n",
            "11        Rayon Wiyung\n",
            "12        Rayon Wiyung\n",
            "14        Rayon Wiyung\n",
            "15        Rayon Wiyung\n",
            "16        Rayon Wiyung\n",
            "20        Rayon Wiyung\n",
            "22        Rayon Wiyung\n",
            "23        Rayon Wiyung\n",
            "24        Rayon Wiyung\n",
            "25        Rayon Wiyung\n",
            "32        Rayon Tandes\n",
            "37        Rayon Tandes\n",
            "40        Rayon Tandes\n",
            "43        Rayon Tandes\n",
            "44        Rayon Tandes\n",
            "45        Rayon Tandes\n",
            "46        Rayon Tandes\n",
            "47        Rayon Tandes\n",
            "48        Rayon Tandes\n",
            "56        Rayon Tandes\n",
            "57        Rayon Tandes\n",
            "66        Rayon Tandes\n",
            "70        Rayon Tandes\n",
            "75        Rayon Tandes\n",
            "76        Rayon Tandes\n",
            "81        Rayon Tandes\n",
            "87     Rayon Jambangan\n",
            "114       Rayon Gubeng\n",
            "119       Rayon Gubeng\n",
            "124       Rayon Gubeng\n",
            "129       Rayon Gubeng\n",
            "149       Rayon Gubeng\n",
            "166       Rayon Gubeng\n",
            "174      Rayon Genteng\n",
            "175       Rayon Gubeng\n",
            "184      Rayon Genteng\n",
            "188      Rayon Genteng\n",
            "190      Rayon Genteng\n",
            "191      Rayon Genteng\n",
            "192      Rayon Genteng\n",
            "193      Rayon Genteng\n",
            "194      Rayon Genteng\n",
            "197      Rayon Genteng\n",
            "200      Rayon Genteng\n",
            "210      Rayon Genteng\n",
            "212      Rayon Genteng\n",
            "213      Rayon Genteng\n",
            "215      Rayon Genteng\n",
            "Name: Rayon, dtype: object\n"
          ]
        }
      ]
    }
  ]
}